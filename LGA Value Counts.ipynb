{
 "cells": [
  {
   "cell_type": "markdown",
   "metadata": {},
   "source": [
    "# Import necessary libraries and files"
   ]
  },
  {
   "cell_type": "code",
   "execution_count": 1,
   "metadata": {},
   "outputs": [],
   "source": [
    "import pandas as pd\n",
    "import numpy as np\n",
    "import matplotlib.pyplot as plt\n",
    "%matplotlib inline\n",
    "import seaborn as sns\n",
    "from scipy import stats"
   ]
  },
  {
   "cell_type": "code",
   "execution_count": 6,
   "metadata": {},
   "outputs": [
    {
     "data": {
      "text/html": [
       "<div>\n",
       "<style scoped>\n",
       "    .dataframe tbody tr th:only-of-type {\n",
       "        vertical-align: middle;\n",
       "    }\n",
       "\n",
       "    .dataframe tbody tr th {\n",
       "        vertical-align: top;\n",
       "    }\n",
       "\n",
       "    .dataframe thead th {\n",
       "        text-align: right;\n",
       "    }\n",
       "</style>\n",
       "<table border=\"1\" class=\"dataframe\">\n",
       "  <thead>\n",
       "    <tr style=\"text-align: right;\">\n",
       "      <th></th>\n",
       "      <th>amount_tsh</th>\n",
       "      <th>gps_height</th>\n",
       "      <th>longitude</th>\n",
       "      <th>latitude</th>\n",
       "      <th>basin</th>\n",
       "      <th>region</th>\n",
       "      <th>region_code</th>\n",
       "      <th>district_code</th>\n",
       "      <th>population</th>\n",
       "      <th>scheme_management</th>\n",
       "      <th>...</th>\n",
       "      <th>payment</th>\n",
       "      <th>water_quality</th>\n",
       "      <th>quantity</th>\n",
       "      <th>source</th>\n",
       "      <th>waterpoint_type</th>\n",
       "      <th>well_age</th>\n",
       "      <th>status_group</th>\n",
       "      <th>top_funded</th>\n",
       "      <th>top_installers</th>\n",
       "      <th>top_lga</th>\n",
       "    </tr>\n",
       "  </thead>\n",
       "  <tbody>\n",
       "    <tr>\n",
       "      <th>0</th>\n",
       "      <td>6000.0</td>\n",
       "      <td>1390</td>\n",
       "      <td>34.938093</td>\n",
       "      <td>-9.856322</td>\n",
       "      <td>Lake Nyasa</td>\n",
       "      <td>Iringa</td>\n",
       "      <td>11</td>\n",
       "      <td>5</td>\n",
       "      <td>109</td>\n",
       "      <td>VWC</td>\n",
       "      <td>...</td>\n",
       "      <td>pay annually</td>\n",
       "      <td>soft</td>\n",
       "      <td>enough</td>\n",
       "      <td>spring</td>\n",
       "      <td>communal standpipe</td>\n",
       "      <td>12</td>\n",
       "      <td>functional</td>\n",
       "      <td>Roman Catholic</td>\n",
       "      <td>RC CHURCH</td>\n",
       "      <td>Ludewa</td>\n",
       "    </tr>\n",
       "    <tr>\n",
       "      <th>1</th>\n",
       "      <td>0.0</td>\n",
       "      <td>1399</td>\n",
       "      <td>34.698766</td>\n",
       "      <td>-2.147466</td>\n",
       "      <td>Lake Victoria</td>\n",
       "      <td>Mara</td>\n",
       "      <td>20</td>\n",
       "      <td>2</td>\n",
       "      <td>280</td>\n",
       "      <td>Other</td>\n",
       "      <td>...</td>\n",
       "      <td>never pay</td>\n",
       "      <td>soft</td>\n",
       "      <td>insufficient</td>\n",
       "      <td>rainwater harvesting</td>\n",
       "      <td>communal standpipe</td>\n",
       "      <td>3</td>\n",
       "      <td>functional</td>\n",
       "      <td>other</td>\n",
       "      <td>other</td>\n",
       "      <td>Serengeti</td>\n",
       "    </tr>\n",
       "    <tr>\n",
       "      <th>2</th>\n",
       "      <td>25.0</td>\n",
       "      <td>686</td>\n",
       "      <td>37.460664</td>\n",
       "      <td>-3.821329</td>\n",
       "      <td>Pangani</td>\n",
       "      <td>Manyara</td>\n",
       "      <td>21</td>\n",
       "      <td>4</td>\n",
       "      <td>250</td>\n",
       "      <td>VWC</td>\n",
       "      <td>...</td>\n",
       "      <td>pay per bucket</td>\n",
       "      <td>soft</td>\n",
       "      <td>enough</td>\n",
       "      <td>dam</td>\n",
       "      <td>communal standpipe multiple</td>\n",
       "      <td>4</td>\n",
       "      <td>functional</td>\n",
       "      <td>other</td>\n",
       "      <td>World Vision</td>\n",
       "      <td>Simanjiro</td>\n",
       "    </tr>\n",
       "    <tr>\n",
       "      <th>3</th>\n",
       "      <td>0.0</td>\n",
       "      <td>263</td>\n",
       "      <td>38.486161</td>\n",
       "      <td>-11.155298</td>\n",
       "      <td>Ruvuma / Southern Coast</td>\n",
       "      <td>Mtwara</td>\n",
       "      <td>90</td>\n",
       "      <td>63</td>\n",
       "      <td>58</td>\n",
       "      <td>VWC</td>\n",
       "      <td>...</td>\n",
       "      <td>never pay</td>\n",
       "      <td>soft</td>\n",
       "      <td>dry</td>\n",
       "      <td>machine dbh</td>\n",
       "      <td>communal standpipe multiple</td>\n",
       "      <td>27</td>\n",
       "      <td>non functional</td>\n",
       "      <td>Unicef</td>\n",
       "      <td>UNICEF</td>\n",
       "      <td>other</td>\n",
       "    </tr>\n",
       "    <tr>\n",
       "      <th>4</th>\n",
       "      <td>0.0</td>\n",
       "      <td>0</td>\n",
       "      <td>31.130847</td>\n",
       "      <td>-1.825359</td>\n",
       "      <td>Lake Victoria</td>\n",
       "      <td>Kagera</td>\n",
       "      <td>18</td>\n",
       "      <td>1</td>\n",
       "      <td>0</td>\n",
       "      <td>other</td>\n",
       "      <td>...</td>\n",
       "      <td>never pay</td>\n",
       "      <td>soft</td>\n",
       "      <td>seasonal</td>\n",
       "      <td>rainwater harvesting</td>\n",
       "      <td>communal standpipe</td>\n",
       "      <td>12</td>\n",
       "      <td>functional</td>\n",
       "      <td>other</td>\n",
       "      <td>Artisan</td>\n",
       "      <td>Karagwe</td>\n",
       "    </tr>\n",
       "  </tbody>\n",
       "</table>\n",
       "<p>5 rows × 22 columns</p>\n",
       "</div>"
      ],
      "text/plain": [
       "   amount_tsh  gps_height  longitude   latitude                    basin  \\\n",
       "0      6000.0        1390  34.938093  -9.856322               Lake Nyasa   \n",
       "1         0.0        1399  34.698766  -2.147466            Lake Victoria   \n",
       "2        25.0         686  37.460664  -3.821329                  Pangani   \n",
       "3         0.0         263  38.486161 -11.155298  Ruvuma / Southern Coast   \n",
       "4         0.0           0  31.130847  -1.825359            Lake Victoria   \n",
       "\n",
       "    region  region_code  district_code  population scheme_management  ...  \\\n",
       "0   Iringa           11              5         109               VWC  ...   \n",
       "1     Mara           20              2         280             Other  ...   \n",
       "2  Manyara           21              4         250               VWC  ...   \n",
       "3   Mtwara           90             63          58               VWC  ...   \n",
       "4   Kagera           18              1           0             other  ...   \n",
       "\n",
       "          payment water_quality      quantity                source  \\\n",
       "0    pay annually          soft        enough                spring   \n",
       "1       never pay          soft  insufficient  rainwater harvesting   \n",
       "2  pay per bucket          soft        enough                   dam   \n",
       "3       never pay          soft           dry           machine dbh   \n",
       "4       never pay          soft      seasonal  rainwater harvesting   \n",
       "\n",
       "               waterpoint_type well_age    status_group      top_funded  \\\n",
       "0           communal standpipe       12      functional  Roman Catholic   \n",
       "1           communal standpipe        3      functional           other   \n",
       "2  communal standpipe multiple        4      functional           other   \n",
       "3  communal standpipe multiple       27  non functional          Unicef   \n",
       "4           communal standpipe       12      functional           other   \n",
       "\n",
       "  top_installers    top_lga  \n",
       "0      RC CHURCH     Ludewa  \n",
       "1          other  Serengeti  \n",
       "2   World Vision  Simanjiro  \n",
       "3         UNICEF      other  \n",
       "4        Artisan    Karagwe  \n",
       "\n",
       "[5 rows x 22 columns]"
      ]
     },
     "execution_count": 6,
     "metadata": {},
     "output_type": "execute_result"
    }
   ],
   "source": [
    "df_train = pd.read_csv('Saved Files/experimental100_training_set')\n",
    "df_train.head()"
   ]
  },
  {
   "cell_type": "code",
   "execution_count": 26,
   "metadata": {},
   "outputs": [],
   "source": [
    "df_train.drop(columns = ['num_private', 'payment_type'], axis = 1, inplace = True)"
   ]
  },
  {
   "cell_type": "code",
   "execution_count": 10,
   "metadata": {},
   "outputs": [],
   "source": [
    "def top_lgas(var):\n",
    "    if var in df_train['lga'].value_counts(normalize = True).head(50).index:\n",
    "        return var\n",
    "    else:\n",
    "        return 'other'"
   ]
  },
  {
   "cell_type": "code",
   "execution_count": 11,
   "metadata": {},
   "outputs": [],
   "source": [
    "df_train['top_lga'] = df_train['lga'].map(top_lgas)"
   ]
  },
  {
   "cell_type": "code",
   "execution_count": 12,
   "metadata": {},
   "outputs": [],
   "source": [
    "df_train.drop(['lga'], axis = 1, inplace = True)"
   ]
  },
  {
   "cell_type": "code",
   "execution_count": 13,
   "metadata": {},
   "outputs": [
    {
     "data": {
      "text/plain": [
       "other               20268\n",
       "Njombe               2503\n",
       "Arusha Rural         1252\n",
       "Moshi Rural          1251\n",
       "Bariadi              1177\n",
       "Rungwe               1106\n",
       "Kilosa               1094\n",
       "Kasulu               1047\n",
       "Mbozi                1034\n",
       "Meru                 1009\n",
       "Bagamoyo              997\n",
       "Singida Rural         995\n",
       "Kilombero             959\n",
       "Same                  877\n",
       "Kibondo               874\n",
       "Kyela                 859\n",
       "Kahama                836\n",
       "Kigoma Rural          824\n",
       "Magu                  824\n",
       "Maswa                 809\n",
       "Karagwe               771\n",
       "Mbinga                750\n",
       "Iringa Rural          728\n",
       "Serengeti             716\n",
       "Namtumbo              694\n",
       "Lushoto               694\n",
       "Songea Rural          693\n",
       "Mpanda                679\n",
       "Mvomero               671\n",
       "Ngara                 669\n",
       "Ulanga                665\n",
       "Makete                630\n",
       "Kwimba                627\n",
       "Mbarali               626\n",
       "Hai                   625\n",
       "Rombo                 594\n",
       "Shinyanga Rural       588\n",
       "Nzega                 575\n",
       "Ludewa                564\n",
       "Mkuranga              560\n",
       "Iramba                544\n",
       "Masasi                528\n",
       "Kondoa                523\n",
       "Morogoro Rural        521\n",
       "Sumbawanga Rural      521\n",
       "Mufindi               520\n",
       "Mwanga                519\n",
       "Bukombe               514\n",
       "Babati                511\n",
       "Ilala                 497\n",
       "Geita                 488\n",
       "Name: top_lga, dtype: int64"
      ]
     },
     "execution_count": 13,
     "metadata": {},
     "output_type": "execute_result"
    }
   ],
   "source": [
    "df_train['top_lga'].value_counts()"
   ]
  },
  {
   "cell_type": "markdown",
   "metadata": {},
   "source": [
    "## Columns appended for top 25 file"
   ]
  },
  {
   "cell_type": "code",
   "execution_count": null,
   "metadata": {},
   "outputs": [],
   "source": [
    "#df_train['top_lga'].replace('Lushoto', 'other', inplace = True)"
   ]
  },
  {
   "cell_type": "code",
   "execution_count": null,
   "metadata": {},
   "outputs": [],
   "source": [
    "#df_train['top_funded'].replace('Amref', 'other', inplace = True)"
   ]
  },
  {
   "cell_type": "code",
   "execution_count": null,
   "metadata": {},
   "outputs": [],
   "source": [
    "#df_train['scheme_management'].replace('None', 'other', inplace = True)"
   ]
  },
  {
   "cell_type": "code",
   "execution_count": null,
   "metadata": {},
   "outputs": [],
   "source": [
    "#df_train['top_installers'].replace('CES', 'other', inplace = True)"
   ]
  },
  {
   "cell_type": "markdown",
   "metadata": {},
   "source": [
    "## Columns appended for top 50 file"
   ]
  },
  {
   "cell_type": "code",
   "execution_count": 3,
   "metadata": {},
   "outputs": [],
   "source": [
    "#df_train['district_code'] = df_train['district_code'].astype('str')\n",
    "#df_train['region_code'] = df_train['region_code'].astype('str')"
   ]
  },
  {
   "cell_type": "code",
   "execution_count": 4,
   "metadata": {},
   "outputs": [],
   "source": [
    "#df_train['region_code'].replace('40', '4', inplace = True)"
   ]
  },
  {
   "cell_type": "code",
   "execution_count": 5,
   "metadata": {},
   "outputs": [],
   "source": [
    "#df_train['scheme_management'].replace('None', 'other', inplace = True)\n",
    "#df_train['scheme_management'].replace('Other', 'other', inplace = True)"
   ]
  },
  {
   "cell_type": "code",
   "execution_count": 6,
   "metadata": {},
   "outputs": [],
   "source": [
    "#df_train['top_funded'].replace('Ded', 'other', inplace = True)\n",
    "#df_train['top_funded'].replace('Dh', 'other', inplace = True)\n",
    "#df_train['top_funded'].replace('Plan Int', 'other', inplace = True)\n",
    "#df_train['top_funded'].replace('Rural Water Supply And Sanitat', 'Rural Water Supply And Sanitation', inplace = True)\n",
    "#df_train['top_funded'].replace('Go', 'other', inplace = True)"
   ]
  },
  {
   "cell_type": "code",
   "execution_count": 7,
   "metadata": {},
   "outputs": [],
   "source": [
    "#df_train['top_installers'].replace('Idara ya maji', 'other', inplace = True)\n",
    "#df_train['top_installers'].replace('FW', 'Fini Water', inplace = True)\n",
    "#df_train['top_installers'].replace('FinW', 'Fini Water', inplace = True)"
   ]
  },
  {
   "cell_type": "code",
   "execution_count": 14,
   "metadata": {},
   "outputs": [],
   "source": [
    "#df_train['top_lga'].replace('Babati', 'other', inplace = True)\n",
    "#df_train['top_lga'].replace('Geita', 'other', inplace = True)"
   ]
  },
  {
   "cell_type": "code",
   "execution_count": 28,
   "metadata": {},
   "outputs": [
    {
     "data": {
      "text/plain": [
       "11    5300\n",
       "17    5011\n",
       "12    4639\n",
       "3     4379\n",
       "5     4040\n",
       "18    3324\n",
       "19    3047\n",
       "2     3024\n",
       "16    2816\n",
       "10    2640\n",
       "4     2513\n",
       "1     2201\n",
       "13    2093\n",
       "14    1979\n",
       "20    1969\n",
       "15    1808\n",
       "6     1609\n",
       "21    1583\n",
       "80    1238\n",
       "60    1025\n",
       "90     917\n",
       "7      805\n",
       "99     423\n",
       "9      390\n",
       "24     326\n",
       "8      300\n",
       "40       1\n",
       "Name: region_code, dtype: int64"
      ]
     },
     "execution_count": 28,
     "metadata": {},
     "output_type": "execute_result"
    }
   ],
   "source": [
    "df_train['region_code'].value_counts()"
   ]
  },
  {
   "cell_type": "markdown",
   "metadata": {},
   "source": [
    "## Columns appended for top 100 file"
   ]
  },
  {
   "cell_type": "code",
   "execution_count": 29,
   "metadata": {},
   "outputs": [],
   "source": [
    "df_train['top_funded'].replace('Bsf', 'other', inplace = True)\n",
    "df_train['top_funded'].replace('Dfid', 'other', inplace = True)\n",
    "df_train['top_funded'].replace('Germany Republic', 'Germany', inplace = True)\n",
    "df_train['top_funded'].replace('Gtz', 'Government Of Tanzania', inplace = True)\n",
    "df_train['top_funded'].replace('He', 'Hesawa', inplace = True)\n",
    "df_train['top_funded'].replace('H', 'Hesawa', inplace = True)\n",
    "df_train['top_funded'].replace('Hsw', 'Hesawa', inplace = True)\n",
    "df_train['top_funded'].replace('Idc', 'other', inplace = True)\n",
    "df_train['top_funded'].replace('Missi', 'Mission', inplace = True)\n",
    "df_train['top_funded'].replace('Twe', 'other', inplace = True)\n",
    "df_train['top_funded'].replace('Undp', 'other', inplace = True)\n",
    "df_train['top_funded'].replace('Village Council', 'Villagers', inplace = True)\n",
    "df_train['top_funded'].replace('Ces(gmbh)', 'Ces (gmbh)', inplace = True)\n",
    "df_train['top_funded'].replace('Co', 'Community', inplace = True)\n",
    "df_train['top_funded'].replace('Concern', 'Concern World Wide', inplace = True)\n",
    "df_train['top_funded'].replace('Dh', 'Dhv', inplace = True)\n",
    "df_train['top_funded'].replace('Fw', 'Fini Water', inplace = True)\n",
    "df_train['top_funded'].replace('Go', 'Government Of Tanzania', inplace = True)\n",
    "df_train['top_funded'].replace('Is', 'Isf', inplace = True)\n",
    "df_train['top_funded'].replace('Ki', 'Kiliwater', inplace = True)\n",
    "df_train['top_funded'].replace('Kkkt_makwale', 'Kkkt', inplace = True)\n",
    "df_train['top_funded'].replace('Nethalan', 'Netherlands', inplace = True)\n",
    "df_train['top_funded'].replace('No', 'Norad', inplace = True)\n",
    "df_train['top_funded'].replace('Oxfam', 'Oxfarm', inplace = True)\n",
    "df_train['top_funded'].replace('Rc', 'Roman Catholic', inplace = True)\n",
    "df_train['top_funded'].replace('Rc Church', 'Roman Catholic', inplace = True)\n",
    "df_train['top_funded'].replace('Roman', 'Roman Catholic', inplace = True)\n",
    "df_train['top_funded'].replace('Ru', 'Rudep', inplace = True)\n",
    "df_train['top_funded'].replace('Tasaf', 'Tassaf', inplace = True)\n",
    "df_train['top_funded'].replace('Unice', 'Unicef', inplace = True)"
   ]
  },
  {
   "cell_type": "code",
   "execution_count": 4,
   "metadata": {},
   "outputs": [],
   "source": [
    "df_train['top_installers'].replace('Amref', 'AMREF', inplace = True)\n",
    "df_train['top_installers'].replace('Central government', 'Government', inplace = True)\n",
    "df_train['top_installers'].replace('Central govt', 'Government', inplace = True)\n",
    "df_train['top_installers'].replace('District water department', 'District Council', inplace = True)\n",
    "df_train['top_installers'].replace('FINI WATER', 'Fini Water', inplace = True)\n",
    "df_train['top_installers'].replace('FW', 'Fini Water', inplace = True)\n",
    "df_train['top_installers'].replace('FinW', 'Fini Water', inplace = True)\n",
    "df_train['top_installers'].replace('Fini water', 'Fini Water', inplace = True)\n",
    "df_train['top_installers'].replace('GOVER', 'Government', inplace = True)\n",
    "df_train['top_installers'].replace('Go', 'Government', inplace = True)\n",
    "df_train['top_installers'].replace('H', 'Hesawa', inplace = True)\n",
    "df_train['top_installers'].replace('HE', 'Hesawa', inplace = True)\n",
    "df_train['top_installers'].replace('HSW', 'Hesawa', inplace = True)\n",
    "df_train['top_installers'].replace('JAICA', 'Jaica', inplace = True)\n",
    "df_train['top_installers'].replace('JICA', 'Jaica', inplace = True)\n",
    "df_train['top_installers'].replace('Ki', 'Kiliwater', inplace = True)\n",
    "df_train['top_installers'].replace('MDRDP', 'other', inplace = True)\n",
    "df_train['top_installers'].replace('Missi', 'Mission', inplace = True)\n",
    "df_train['top_installers'].replace('NORAD', 'Norad', inplace = True)\n",
    "df_train['top_installers'].replace('OXFAM', 'OXFARM', inplace = True)\n",
    "df_train['top_installers'].replace('RC', 'RC CHURCH', inplace = True)\n",
    "df_train['top_installers'].replace('Roman', 'RC CHURCH', inplace = True)\n",
    "df_train['top_installers'].replace('Unisef', 'UNICEF', inplace = True)\n",
    "df_train['top_installers'].replace('WATER AID', 'other', inplace = True)\n",
    "df_train['top_installers'].replace('World', 'World Bank', inplace = True)\n",
    "df_train['top_installers'].replace('SHIPO', 'Shipo', inplace = True)\n",
    "df_train['top_installers'].replace('DED', 'other', inplace = True)"
   ]
  },
  {
   "cell_type": "code",
   "execution_count": 31,
   "metadata": {},
   "outputs": [],
   "source": [
    "df_train['top_lga'].replace('Kisarawe', 'other', inplace = True)\n",
    "df_train['top_lga'].replace('Newala', 'other', inplace = True)\n",
    "df_train['top_lga'].replace('Temeke', 'other', inplace = True)"
   ]
  },
  {
   "cell_type": "code",
   "execution_count": 35,
   "metadata": {},
   "outputs": [],
   "source": [
    "df_train['scheme_management'].replace('None', 'other', inplace = True)"
   ]
  },
  {
   "cell_type": "code",
   "execution_count": 37,
   "metadata": {},
   "outputs": [],
   "source": [
    "df_train['district_code'] = df_train['district_code'].astype('str')\n",
    "df_train['region_code'] = df_train['region_code'].astype('str')"
   ]
  },
  {
   "cell_type": "code",
   "execution_count": 38,
   "metadata": {},
   "outputs": [],
   "source": [
    "df_train['region_code'].replace('40', '4', inplace = True)"
   ]
  },
  {
   "cell_type": "markdown",
   "metadata": {},
   "source": [
    "# Save files based on column value count"
   ]
  },
  {
   "cell_type": "code",
   "execution_count": null,
   "metadata": {},
   "outputs": [],
   "source": [
    "#df_train.to_csv('experimental25_training_set', index = False)"
   ]
  },
  {
   "cell_type": "code",
   "execution_count": 15,
   "metadata": {},
   "outputs": [],
   "source": [
    "#df_train.to_csv('experimental50_training_set', index = False)"
   ]
  },
  {
   "cell_type": "code",
   "execution_count": 5,
   "metadata": {},
   "outputs": [],
   "source": [
    "#df_train.to_csv('experimental100_training_set', index = False)"
   ]
  },
  {
   "cell_type": "code",
   "execution_count": null,
   "metadata": {},
   "outputs": [],
   "source": []
  }
 ],
 "metadata": {
  "kernelspec": {
   "display_name": "learn-env",
   "language": "python",
   "name": "learn-env"
  },
  "language_info": {
   "codemirror_mode": {
    "name": "ipython",
    "version": 3
   },
   "file_extension": ".py",
   "mimetype": "text/x-python",
   "name": "python",
   "nbconvert_exporter": "python",
   "pygments_lexer": "ipython3",
   "version": "3.6.13"
  },
  "toc": {
   "base_numbering": 1,
   "nav_menu": {},
   "number_sections": true,
   "sideBar": true,
   "skip_h1_title": false,
   "title_cell": "Table of Contents",
   "title_sidebar": "Contents",
   "toc_cell": false,
   "toc_position": {},
   "toc_section_display": true,
   "toc_window_display": false
  }
 },
 "nbformat": 4,
 "nbformat_minor": 2
}
