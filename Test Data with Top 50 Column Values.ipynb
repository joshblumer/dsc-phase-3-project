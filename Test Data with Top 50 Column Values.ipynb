{
 "cells": [
  {
   "cell_type": "markdown",
   "metadata": {},
   "source": [
    "# Import Libraries and Files"
   ]
  },
  {
   "cell_type": "code",
   "execution_count": 1,
   "metadata": {},
   "outputs": [],
   "source": [
    "# Import necessary libraries\n",
    "\n",
    "import pandas as pd\n",
    "import numpy as np\n",
    "import matplotlib.pyplot as plt\n",
    "%matplotlib inline\n",
    "import seaborn as sns\n",
    "from sklearn.metrics import plot_confusion_matrix\n",
    "\n",
    "\n",
    "from scipy import stats\n",
    "from sklearn.model_selection import train_test_split, GridSearchCV, RandomizedSearchCV\n",
    "from sklearn.tree import DecisionTreeClassifier \n",
    "from sklearn.ensemble import BaggingClassifier, RandomForestClassifier\n",
    "from sklearn.metrics import accuracy_score, roc_curve, auc, confusion_matrix, classification_report\n",
    "from sklearn.preprocessing import OneHotEncoder, MinMaxScaler\n",
    "from sklearn import tree\n",
    "from xgboost import XGBClassifier\n",
    "from imblearn.over_sampling import SMOTE"
   ]
  },
  {
   "cell_type": "code",
   "execution_count": 2,
   "metadata": {},
   "outputs": [
    {
     "data": {
      "text/html": [
       "<div>\n",
       "<style scoped>\n",
       "    .dataframe tbody tr th:only-of-type {\n",
       "        vertical-align: middle;\n",
       "    }\n",
       "\n",
       "    .dataframe tbody tr th {\n",
       "        vertical-align: top;\n",
       "    }\n",
       "\n",
       "    .dataframe thead th {\n",
       "        text-align: right;\n",
       "    }\n",
       "</style>\n",
       "<table border=\"1\" class=\"dataframe\">\n",
       "  <thead>\n",
       "    <tr style=\"text-align: right;\">\n",
       "      <th></th>\n",
       "      <th>id</th>\n",
       "      <th>amount_tsh</th>\n",
       "      <th>date_recorded</th>\n",
       "      <th>funder</th>\n",
       "      <th>gps_height</th>\n",
       "      <th>installer</th>\n",
       "      <th>longitude</th>\n",
       "      <th>latitude</th>\n",
       "      <th>wpt_name</th>\n",
       "      <th>num_private</th>\n",
       "      <th>...</th>\n",
       "      <th>payment_type</th>\n",
       "      <th>water_quality</th>\n",
       "      <th>quality_group</th>\n",
       "      <th>quantity</th>\n",
       "      <th>quantity_group</th>\n",
       "      <th>source</th>\n",
       "      <th>source_type</th>\n",
       "      <th>source_class</th>\n",
       "      <th>waterpoint_type</th>\n",
       "      <th>waterpoint_type_group</th>\n",
       "    </tr>\n",
       "  </thead>\n",
       "  <tbody>\n",
       "    <tr>\n",
       "      <th>0</th>\n",
       "      <td>50785</td>\n",
       "      <td>0.0</td>\n",
       "      <td>2013-02-04</td>\n",
       "      <td>Dmdd</td>\n",
       "      <td>1996</td>\n",
       "      <td>DMDD</td>\n",
       "      <td>35.290799</td>\n",
       "      <td>-4.059696</td>\n",
       "      <td>Dinamu Secondary School</td>\n",
       "      <td>0</td>\n",
       "      <td>...</td>\n",
       "      <td>never pay</td>\n",
       "      <td>soft</td>\n",
       "      <td>good</td>\n",
       "      <td>seasonal</td>\n",
       "      <td>seasonal</td>\n",
       "      <td>rainwater harvesting</td>\n",
       "      <td>rainwater harvesting</td>\n",
       "      <td>surface</td>\n",
       "      <td>other</td>\n",
       "      <td>other</td>\n",
       "    </tr>\n",
       "    <tr>\n",
       "      <th>1</th>\n",
       "      <td>51630</td>\n",
       "      <td>0.0</td>\n",
       "      <td>2013-02-04</td>\n",
       "      <td>Government Of Tanzania</td>\n",
       "      <td>1569</td>\n",
       "      <td>DWE</td>\n",
       "      <td>36.656709</td>\n",
       "      <td>-3.309214</td>\n",
       "      <td>Kimnyak</td>\n",
       "      <td>0</td>\n",
       "      <td>...</td>\n",
       "      <td>never pay</td>\n",
       "      <td>soft</td>\n",
       "      <td>good</td>\n",
       "      <td>insufficient</td>\n",
       "      <td>insufficient</td>\n",
       "      <td>spring</td>\n",
       "      <td>spring</td>\n",
       "      <td>groundwater</td>\n",
       "      <td>communal standpipe</td>\n",
       "      <td>communal standpipe</td>\n",
       "    </tr>\n",
       "    <tr>\n",
       "      <th>2</th>\n",
       "      <td>17168</td>\n",
       "      <td>0.0</td>\n",
       "      <td>2013-02-01</td>\n",
       "      <td>NaN</td>\n",
       "      <td>1567</td>\n",
       "      <td>NaN</td>\n",
       "      <td>34.767863</td>\n",
       "      <td>-5.004344</td>\n",
       "      <td>Puma Secondary</td>\n",
       "      <td>0</td>\n",
       "      <td>...</td>\n",
       "      <td>never pay</td>\n",
       "      <td>soft</td>\n",
       "      <td>good</td>\n",
       "      <td>insufficient</td>\n",
       "      <td>insufficient</td>\n",
       "      <td>rainwater harvesting</td>\n",
       "      <td>rainwater harvesting</td>\n",
       "      <td>surface</td>\n",
       "      <td>other</td>\n",
       "      <td>other</td>\n",
       "    </tr>\n",
       "    <tr>\n",
       "      <th>3</th>\n",
       "      <td>45559</td>\n",
       "      <td>0.0</td>\n",
       "      <td>2013-01-22</td>\n",
       "      <td>Finn Water</td>\n",
       "      <td>267</td>\n",
       "      <td>FINN WATER</td>\n",
       "      <td>38.058046</td>\n",
       "      <td>-9.418672</td>\n",
       "      <td>Kwa Mzee Pange</td>\n",
       "      <td>0</td>\n",
       "      <td>...</td>\n",
       "      <td>unknown</td>\n",
       "      <td>soft</td>\n",
       "      <td>good</td>\n",
       "      <td>dry</td>\n",
       "      <td>dry</td>\n",
       "      <td>shallow well</td>\n",
       "      <td>shallow well</td>\n",
       "      <td>groundwater</td>\n",
       "      <td>other</td>\n",
       "      <td>other</td>\n",
       "    </tr>\n",
       "    <tr>\n",
       "      <th>4</th>\n",
       "      <td>49871</td>\n",
       "      <td>500.0</td>\n",
       "      <td>2013-03-27</td>\n",
       "      <td>Bruder</td>\n",
       "      <td>1260</td>\n",
       "      <td>BRUDER</td>\n",
       "      <td>35.006123</td>\n",
       "      <td>-10.950412</td>\n",
       "      <td>Kwa Mzee Turuka</td>\n",
       "      <td>0</td>\n",
       "      <td>...</td>\n",
       "      <td>monthly</td>\n",
       "      <td>soft</td>\n",
       "      <td>good</td>\n",
       "      <td>enough</td>\n",
       "      <td>enough</td>\n",
       "      <td>spring</td>\n",
       "      <td>spring</td>\n",
       "      <td>groundwater</td>\n",
       "      <td>communal standpipe</td>\n",
       "      <td>communal standpipe</td>\n",
       "    </tr>\n",
       "  </tbody>\n",
       "</table>\n",
       "<p>5 rows × 40 columns</p>\n",
       "</div>"
      ],
      "text/plain": [
       "      id  amount_tsh date_recorded                  funder  gps_height  \\\n",
       "0  50785         0.0    2013-02-04                    Dmdd        1996   \n",
       "1  51630         0.0    2013-02-04  Government Of Tanzania        1569   \n",
       "2  17168         0.0    2013-02-01                     NaN        1567   \n",
       "3  45559         0.0    2013-01-22              Finn Water         267   \n",
       "4  49871       500.0    2013-03-27                  Bruder        1260   \n",
       "\n",
       "    installer  longitude   latitude                 wpt_name  num_private  \\\n",
       "0        DMDD  35.290799  -4.059696  Dinamu Secondary School            0   \n",
       "1         DWE  36.656709  -3.309214                  Kimnyak            0   \n",
       "2         NaN  34.767863  -5.004344           Puma Secondary            0   \n",
       "3  FINN WATER  38.058046  -9.418672           Kwa Mzee Pange            0   \n",
       "4      BRUDER  35.006123 -10.950412          Kwa Mzee Turuka            0   \n",
       "\n",
       "   ... payment_type water_quality quality_group      quantity  quantity_group  \\\n",
       "0  ...    never pay          soft          good      seasonal        seasonal   \n",
       "1  ...    never pay          soft          good  insufficient    insufficient   \n",
       "2  ...    never pay          soft          good  insufficient    insufficient   \n",
       "3  ...      unknown          soft          good           dry             dry   \n",
       "4  ...      monthly          soft          good        enough          enough   \n",
       "\n",
       "                 source           source_type  source_class  \\\n",
       "0  rainwater harvesting  rainwater harvesting       surface   \n",
       "1                spring                spring   groundwater   \n",
       "2  rainwater harvesting  rainwater harvesting       surface   \n",
       "3          shallow well          shallow well   groundwater   \n",
       "4                spring                spring   groundwater   \n",
       "\n",
       "      waterpoint_type waterpoint_type_group  \n",
       "0               other                 other  \n",
       "1  communal standpipe    communal standpipe  \n",
       "2               other                 other  \n",
       "3               other                 other  \n",
       "4  communal standpipe    communal standpipe  \n",
       "\n",
       "[5 rows x 40 columns]"
      ]
     },
     "execution_count": 2,
     "metadata": {},
     "output_type": "execute_result"
    }
   ],
   "source": [
    "# Import test values\n",
    "\n",
    "df_test = pd.read_csv('DrivenData Files/testsetvalues.csv')\n",
    "df_test.head()"
   ]
  },
  {
   "cell_type": "markdown",
   "metadata": {},
   "source": [
    "## Preprocess Well Age and Drop Columns"
   ]
  },
  {
   "cell_type": "code",
   "execution_count": 3,
   "metadata": {},
   "outputs": [
    {
     "name": "stdout",
     "output_type": "stream",
     "text": [
      "0     4855\n",
      "1     1149\n",
      "3      650\n",
      "2      594\n",
      "5      510\n",
      "13     436\n",
      "4      434\n",
      "7      405\n",
      "6      351\n",
      "11     324\n",
      "14     293\n",
      "8      280\n",
      "33     255\n",
      "15     249\n",
      "16     237\n",
      "23     203\n",
      "19     203\n",
      "10     192\n",
      "9      192\n",
      "27     187\n",
      "31     186\n",
      "18     184\n",
      "28     182\n",
      "17     164\n",
      "25     161\n",
      "21     149\n",
      "29     147\n",
      "12     147\n",
      "35     140\n",
      "41     133\n",
      "26     133\n",
      "37     131\n",
      "20     130\n",
      "39     127\n",
      "38      90\n",
      "36      86\n",
      "30      78\n",
      "22      77\n",
      "43      70\n",
      "40      62\n",
      "24      61\n",
      "34      49\n",
      "32      42\n",
      "42      23\n",
      "50      21\n",
      "53      20\n",
      "45      14\n",
      "44      11\n",
      "51       7\n",
      "48       7\n",
      "46       7\n",
      "52       5\n",
      "47       4\n",
      "49       3\n",
      "Name: well_age, dtype: int64\n"
     ]
    }
   ],
   "source": [
    "df_test['year_recorded'] = pd.to_datetime(df_test['date_recorded']).dt.year\n",
    "df_test['construction_year'] = df_test['construction_year'].replace({0:2012})\n",
    "df_test['well_age'] = df_test['year_recorded'] - df_test['construction_year']\n",
    "df_test['well_age'] = df_test['well_age'].replace({-1:0, -2:0, -4:0, -7:0, -8:0})\n",
    "df_test.drop(columns = ['date_recorded', 'year_recorded', 'construction_year'], axis = 1, inplace = True)\n",
    "print(df_test['well_age'].value_counts())\n"
   ]
  },
  {
   "cell_type": "code",
   "execution_count": 4,
   "metadata": {},
   "outputs": [],
   "source": [
    "# Deal with null/missing values\n",
    "\n",
    "df_test.drop(columns = ['scheme_name', 'subvillage', 'public_meeting'], axis = 1, inplace = True);\n",
    "df_test['funder'].fillna('other', inplace = True)\n",
    "df_test['installer'].fillna('other', inplace = True)\n",
    "df_test['scheme_management'].fillna('other', inplace = True)\n",
    "df_test['permit'].fillna('other', inplace = True)"
   ]
  },
  {
   "cell_type": "code",
   "execution_count": 5,
   "metadata": {},
   "outputs": [],
   "source": [
    "# Drop columns that were determined to be dropped from training data\n",
    "\n",
    "df_test.drop(columns = ['num_private', 'wpt_name', 'ward', 'recorded_by', 'permit', \n",
    "                       'management_group', 'payment_type', 'quality_group',\n",
    "                       'quantity_group', 'source_type', 'source_class',\n",
    "                       'waterpoint_type_group', 'extraction_type_group', 'extraction_type'], axis = 1, inplace = True)"
   ]
  },
  {
   "cell_type": "markdown",
   "metadata": {},
   "source": [
    "## Organize Top 50 Values for Funder, Installer, and Lga's"
   ]
  },
  {
   "cell_type": "code",
   "execution_count": 6,
   "metadata": {},
   "outputs": [],
   "source": [
    "#Clean 'Funder' column and reduce values counts\n",
    "\n",
    "def top_funders(var):\n",
    "    if var in df_test['funder'].value_counts(normalize = True).head(50).index:\n",
    "        return var\n",
    "    else:\n",
    "        return 'other'\n",
    "    \n",
    "df_test['top_funded'] = df_test['funder'].map(top_funders)"
   ]
  },
  {
   "cell_type": "code",
   "execution_count": 7,
   "metadata": {},
   "outputs": [
    {
     "data": {
      "text/plain": [
       "other                             5331\n",
       "Government Of Tanzania            2215\n",
       "Danida                             793\n",
       "Hesawa                             580\n",
       "World Bank                         352\n",
       "Kkkt                               336\n",
       "Rwssp                              329\n",
       "World Vision                       316\n",
       "Unicef                             267\n",
       "Tasaf                              259\n",
       "Dhv                                236\n",
       "Private Individual                 208\n",
       "0                                  203\n",
       "Dwsp                               201\n",
       "District Council                   194\n",
       "Norad                              184\n",
       "Water                              156\n",
       "Germany Republi                    155\n",
       "Ministry Of Water                  138\n",
       "Tcrs                               133\n",
       "Hifab                              127\n",
       "Netherlands                        122\n",
       "Dwe                                121\n",
       "Lga                                104\n",
       "Adb                                103\n",
       "Amref                              100\n",
       "Rc Church                           89\n",
       "Private                             85\n",
       "Wateraid                            83\n",
       "Fini Water                          81\n",
       "Rudep                               78\n",
       "Mission                             78\n",
       "Oxfam                               77\n",
       "Wsdp                                75\n",
       "Jaica                               73\n",
       "Isf                                 72\n",
       "Rural Water Supply And Sanitat      68\n",
       "Adra                                64\n",
       "Finw                                62\n",
       "Rc                                  61\n",
       "Roman                               61\n",
       "Shipo                               60\n",
       "Jica                                58\n",
       "Ces(gmbh)                           56\n",
       "Kiliwater                           54\n",
       "W.B                                 53\n",
       "Magadini-makiwaru Water             51\n",
       "Dmdd                                51\n",
       "Lawatefuka Water Supply             49\n",
       "Dh                                  48\n",
       "Name: top_funded, dtype: int64"
      ]
     },
     "execution_count": 7,
     "metadata": {},
     "output_type": "execute_result"
    }
   ],
   "source": [
    "# Inspect changes to value counts\n",
    "\n",
    "df_test['top_funded'].value_counts()"
   ]
  },
  {
   "cell_type": "code",
   "execution_count": 8,
   "metadata": {},
   "outputs": [],
   "source": [
    "# Correct data entry grammatical errors\n",
    "\n",
    "df_test['top_funded'].replace('0', 'other', inplace = True)\n",
    "df_test['top_funded'].replace('Finw', 'Fini Water', inplace = True)\n",
    "df_test['top_funded'].replace('Germany Republi', 'Germany Republic', inplace = True)\n",
    "df_test['top_funded'].replace('Private', 'Private Individual', inplace = True)\n",
    "df_test['top_funded'].replace('Jica', 'Jaica', inplace = True)\n",
    "df_test['top_funded'].replace('Water', 'Ministry Of Water', inplace = True)\n",
    "#df_test['top_funded'].replace('Ministry of Water', 'Ministry Of Water', inplace = True)\n",
    "df_test['top_funded'].replace('Rural Water Supply And Sanitat', 'Rural Water Supply And Sanitation', inplace = True)"
   ]
  },
  {
   "cell_type": "code",
   "execution_count": 9,
   "metadata": {},
   "outputs": [],
   "source": [
    "df_test['top_funded'].replace('Magadini-makiwaru Water', 'other', inplace = True)\n",
    "df_test['top_funded'].replace('Wvt', 'other', inplace = True)\n",
    "df_test['top_funded'].replace('W.B', 'other', inplace = True)"
   ]
  },
  {
   "cell_type": "code",
   "execution_count": 10,
   "metadata": {},
   "outputs": [],
   "source": [
    "# Clean 'Installer' column and reduce value counts\n",
    "\n",
    "def top_installer(var):\n",
    "    if var in df_test['installer'].value_counts(normalize = True).head(50).index:\n",
    "        return var\n",
    "    else:\n",
    "        return 'other'\n",
    "    \n",
    "df_test['top_installers'] = df_test['installer'].map(top_installer)"
   ]
  },
  {
   "cell_type": "code",
   "execution_count": 11,
   "metadata": {},
   "outputs": [
    {
     "data": {
      "text/plain": [
       "other                         5380\n",
       "DWE                           4349\n",
       "Government                     457\n",
       "RWE                            292\n",
       "Commu                          287\n",
       "DANIDA                         255\n",
       "Hesawa                         230\n",
       "KKKT                           222\n",
       "0                              203\n",
       "TCRS                           180\n",
       "CES                            155\n",
       "Central government             142\n",
       "HESAWA                         140\n",
       "DANID                          138\n",
       "Community                      134\n",
       "District Council               112\n",
       "World vision                   109\n",
       "TASAF                          108\n",
       "Gover                          100\n",
       "WEDECO                          99\n",
       "District council                98\n",
       "LGA                             93\n",
       "TWESA                           79\n",
       "WU                              76\n",
       "Dmdd                            69\n",
       "AMREF                           69\n",
       "ACRA                            68\n",
       "UNICEF                          63\n",
       "Villagers                       63\n",
       "Da                              63\n",
       "DW                              62\n",
       "SEMA                            62\n",
       "Kiliwater                       61\n",
       "FinW                            59\n",
       "World Vision                    56\n",
       "OXFAM                           54\n",
       "Gove                            54\n",
       "Handeni Trunk Main(             52\n",
       "NORAD                           52\n",
       "Magadini-Makiwaru wa            51\n",
       "Lawatefuka water sup            49\n",
       "WVT                             48\n",
       "DWSP                            47\n",
       "Mission                         46\n",
       "RC                              45\n",
       "Kuwait                          45\n",
       "DH                              44\n",
       "Sengerema Water Department      44\n",
       "JAICA                           43\n",
       "Distri                          43\n",
       "Name: top_installers, dtype: int64"
      ]
     },
     "execution_count": 11,
     "metadata": {},
     "output_type": "execute_result"
    }
   ],
   "source": [
    "# Inspect changes to value counts\n",
    "\n",
    "df_test['top_installers'].value_counts()"
   ]
  },
  {
   "cell_type": "code",
   "execution_count": 12,
   "metadata": {},
   "outputs": [],
   "source": [
    "# Correct data entry grammatical errors\n",
    "\n",
    "df_test['top_installers'].replace('0', 'other', inplace = True)\n",
    "df_test['top_installers'].replace('District council', 'District Council', inplace = True)\n",
    "df_test['top_installers'].replace('Gover', 'Government', inplace = True)\n",
    "df_test['top_installers'].replace('Commu', 'Community', inplace = True)\n",
    "df_test['top_installers'].replace('World vision', 'World Vision', inplace = True)\n",
    "df_test['top_installers'].replace('HESAWA', 'Hesawa', inplace = True)\n",
    "df_test['top_installers'].replace('DANID', 'DANIDA', inplace = True)\n",
    "#df_test['top_installers'].replace('Centr', 'Central government', inplace = True)\n",
    "df_test['top_installers'].replace('Gove', 'Government', inplace = True)\n",
    "#df_test['top_installers'].replace('Distri', 'District Council', inplace = True)\n",
    "df_test['top_installers'].replace('KKKT _ Konde and DWE', 'KKKT', inplace = True)\n",
    "df_test['top_installers'].replace('Da', 'DANIDA', inplace = True)\n",
    "df_test['top_installers'].replace('Magadini-Makiwaru wa', 'Magadini-Makiwaru Water Supply', inplace = True)\n",
    "df_test['top_installers'].replace('Lawatefuka water sup', 'Lawatefuka Water Supply', inplace = True)\n",
    "df_test['top_installers'].replace('Handeni Trunk Main(', 'Handeni Trunk Main', inplace = True)\n",
    "df_test['top_installers'].replace('Kuwait', 'other', inplace = True)\n",
    "df_test['top_installers'].replace('Mission', 'other', inplace = True)\n",
    "df_test['top_installers'].replace('FinW', 'Fini Water', inplace = True)\n",
    "df_test['top_installers'].replace('Handeni Trunk Main', 'other', inplace = True)\n",
    "df_test['top_installers'].replace('JAICA', 'other', inplace = True)\n",
    "df_test['top_installers'].replace('Distri', 'other', inplace = True)"
   ]
  },
  {
   "cell_type": "code",
   "execution_count": 13,
   "metadata": {},
   "outputs": [],
   "source": [
    "# Clean 'lga' column and reduce value counts\n",
    "\n",
    "def top_lgas(var):\n",
    "    if var in df_test['lga'].value_counts(normalize = True).head(50).index:\n",
    "        return var\n",
    "    else:\n",
    "        return 'other'\n",
    "    \n",
    "df_test['top_lga'] = df_test['lga'].map(top_lgas)"
   ]
  },
  {
   "cell_type": "code",
   "execution_count": 14,
   "metadata": {},
   "outputs": [
    {
     "data": {
      "text/plain": [
       "other               5024\n",
       "Njombe               625\n",
       "Moshi Rural          315\n",
       "Bariadi              308\n",
       "Rungwe               275\n",
       "Kasulu               275\n",
       "Kilosa               274\n",
       "Arusha Rural         269\n",
       "Bagamoyo             266\n",
       "Mbozi                252\n",
       "Kilombero            248\n",
       "Meru                 235\n",
       "Same                 229\n",
       "Kibondo              227\n",
       "Magu                 225\n",
       "Kahama               222\n",
       "Maswa                215\n",
       "Kyela                211\n",
       "Singida Rural        207\n",
       "Karagwe              196\n",
       "Mbinga               193\n",
       "Kigoma Rural         191\n",
       "Serengeti            189\n",
       "Iringa Rural         186\n",
       "Ngara                185\n",
       "Songea Rural         183\n",
       "Ulanga               176\n",
       "Lushoto              176\n",
       "Mvomero              175\n",
       "Mpanda               173\n",
       "Shinyanga Rural      163\n",
       "Kwimba               161\n",
       "Makete               159\n",
       "Nzega                155\n",
       "Mbarali              155\n",
       "Hai                  155\n",
       "Rombo                153\n",
       "Namtumbo             151\n",
       "Bukombe              139\n",
       "Mkuranga             138\n",
       "Iramba               136\n",
       "Ilala                136\n",
       "Morogoro Rural       135\n",
       "Bukoba Rural         135\n",
       "Mufindi              127\n",
       "Ludewa               123\n",
       "Mwanga               123\n",
       "Masasi               121\n",
       "Kondoa               121\n",
       "Sumbawanga Rural     120\n",
       "Rufiji               119\n",
       "Name: top_lga, dtype: int64"
      ]
     },
     "execution_count": 14,
     "metadata": {},
     "output_type": "execute_result"
    }
   ],
   "source": [
    "# Inspect changes to value counts\n",
    "\n",
    "df_test['top_lga'].value_counts()"
   ]
  },
  {
   "cell_type": "code",
   "execution_count": 15,
   "metadata": {},
   "outputs": [],
   "source": [
    "df_test['top_lga'].replace('Bukoba Rural', 'other', inplace = True)\n",
    "df_test['top_lga'].replace('Rufiji', 'other', inplace = True)"
   ]
  },
  {
   "cell_type": "code",
   "execution_count": 16,
   "metadata": {},
   "outputs": [],
   "source": [
    "df_test['scheme_management'].replace('Other', 'other', inplace = True)"
   ]
  },
  {
   "cell_type": "markdown",
   "metadata": {},
   "source": [
    "## Preprocess remaining data"
   ]
  },
  {
   "cell_type": "code",
   "execution_count": 17,
   "metadata": {},
   "outputs": [],
   "source": [
    "# Drop id because it is unnecessary, drop funder and installer because new features were added with their clean data.\n",
    "\n",
    "df_test.drop(columns = ['id', 'funder', 'installer', 'lga'], axis = 1, inplace = True)"
   ]
  },
  {
   "cell_type": "code",
   "execution_count": 18,
   "metadata": {},
   "outputs": [],
   "source": [
    "# Change data type of district_code and region_code to 'string' in order to be one-hot encoded\n",
    "\n",
    "df_test['district_code'] = df_test['district_code'].astype('str')\n",
    "df_test['region_code'] = df_test['region_code'].astype('str')"
   ]
  },
  {
   "cell_type": "code",
   "execution_count": 19,
   "metadata": {},
   "outputs": [
    {
     "data": {
      "text/plain": [
       "amount_tsh               0\n",
       "gps_height               0\n",
       "longitude                0\n",
       "latitude                 0\n",
       "basin                    0\n",
       "region                   0\n",
       "region_code              0\n",
       "district_code            0\n",
       "population               0\n",
       "scheme_management        0\n",
       "extraction_type_class    0\n",
       "management               0\n",
       "payment                  0\n",
       "water_quality            0\n",
       "quantity                 0\n",
       "source                   0\n",
       "waterpoint_type          0\n",
       "well_age                 0\n",
       "top_funded               0\n",
       "top_installers           0\n",
       "top_lga                  0\n",
       "dtype: int64"
      ]
     },
     "execution_count": 19,
     "metadata": {},
     "output_type": "execute_result"
    }
   ],
   "source": [
    "# Inspect remaining columns for any null values. \n",
    "\n",
    "df_test.isnull().sum()"
   ]
  },
  {
   "cell_type": "markdown",
   "metadata": {},
   "source": [
    "### Save pre-OHE processed file to import for CatBoost modeling"
   ]
  },
  {
   "cell_type": "code",
   "execution_count": 20,
   "metadata": {},
   "outputs": [],
   "source": [
    "# Save preprocessing for modeling\n",
    "\n",
    "df_test.to_csv('Top50_catboost', index = False)"
   ]
  },
  {
   "cell_type": "markdown",
   "metadata": {},
   "source": [
    "# Model Preparation"
   ]
  },
  {
   "cell_type": "code",
   "execution_count": null,
   "metadata": {},
   "outputs": [],
   "source": [
    "# Isolate continuous variables \n",
    "\n",
    "test_cont = df_test[['amount_tsh', 'gps_height', 'longitude', 'latitude', 'population', 'well_age']]"
   ]
  },
  {
   "cell_type": "code",
   "execution_count": null,
   "metadata": {},
   "outputs": [],
   "source": [
    "# Isolate categorical variables \n",
    "\n",
    "test_cat = df_test.drop(columns = ['amount_tsh', 'gps_height', 'longitude', 'latitude', 'population',\n",
    "                                        'well_age'], axis = 1)"
   ]
  },
  {
   "cell_type": "code",
   "execution_count": null,
   "metadata": {},
   "outputs": [],
   "source": [
    "# One-hot encode categorical variables using pd.get_dummies\n",
    "\n",
    "test_dummies = pd.get_dummies(test_cat, drop_first = True)\n",
    "test_dummies.head()"
   ]
  },
  {
   "cell_type": "code",
   "execution_count": null,
   "metadata": {},
   "outputs": [],
   "source": [
    "# Concatenate the OHE categorical and continuous variables back together \n",
    "\n",
    "processed_test = pd.concat([test_dummies, test_cont], axis = 1)\n",
    "processed_test.head()"
   ]
  },
  {
   "cell_type": "code",
   "execution_count": null,
   "metadata": {},
   "outputs": [],
   "source": [
    "processed_test.head()"
   ]
  },
  {
   "cell_type": "code",
   "execution_count": null,
   "metadata": {},
   "outputs": [],
   "source": [
    "# Save preprocessing for modeling\n",
    "\n",
    "processed_test.to_csv('Top50_processed_test', index = False)"
   ]
  },
  {
   "cell_type": "code",
   "execution_count": 2,
   "metadata": {},
   "outputs": [
    {
     "data": {
      "text/html": [
       "<div>\n",
       "<style scoped>\n",
       "    .dataframe tbody tr th:only-of-type {\n",
       "        vertical-align: middle;\n",
       "    }\n",
       "\n",
       "    .dataframe tbody tr th {\n",
       "        vertical-align: top;\n",
       "    }\n",
       "\n",
       "    .dataframe thead th {\n",
       "        text-align: right;\n",
       "    }\n",
       "</style>\n",
       "<table border=\"1\" class=\"dataframe\">\n",
       "  <thead>\n",
       "    <tr style=\"text-align: right;\">\n",
       "      <th></th>\n",
       "      <th>basin_Lake Nyasa</th>\n",
       "      <th>basin_Lake Rukwa</th>\n",
       "      <th>basin_Lake Tanganyika</th>\n",
       "      <th>basin_Lake Victoria</th>\n",
       "      <th>basin_Pangani</th>\n",
       "      <th>basin_Rufiji</th>\n",
       "      <th>basin_Ruvuma / Southern Coast</th>\n",
       "      <th>basin_Wami / Ruvu</th>\n",
       "      <th>region_Dar es Salaam</th>\n",
       "      <th>region_Dodoma</th>\n",
       "      <th>...</th>\n",
       "      <th>top_lga_Songea Rural</th>\n",
       "      <th>top_lga_Sumbawanga Rural</th>\n",
       "      <th>top_lga_Ulanga</th>\n",
       "      <th>top_lga_other</th>\n",
       "      <th>amount_tsh</th>\n",
       "      <th>gps_height</th>\n",
       "      <th>longitude</th>\n",
       "      <th>latitude</th>\n",
       "      <th>population</th>\n",
       "      <th>well_age</th>\n",
       "    </tr>\n",
       "  </thead>\n",
       "  <tbody>\n",
       "    <tr>\n",
       "      <th>0</th>\n",
       "      <td>0</td>\n",
       "      <td>0</td>\n",
       "      <td>0</td>\n",
       "      <td>0</td>\n",
       "      <td>0</td>\n",
       "      <td>0</td>\n",
       "      <td>0</td>\n",
       "      <td>0</td>\n",
       "      <td>0</td>\n",
       "      <td>0</td>\n",
       "      <td>...</td>\n",
       "      <td>0</td>\n",
       "      <td>0</td>\n",
       "      <td>0</td>\n",
       "      <td>1</td>\n",
       "      <td>0.0</td>\n",
       "      <td>1996</td>\n",
       "      <td>35.290799</td>\n",
       "      <td>-4.059696</td>\n",
       "      <td>321</td>\n",
       "      <td>1</td>\n",
       "    </tr>\n",
       "    <tr>\n",
       "      <th>1</th>\n",
       "      <td>0</td>\n",
       "      <td>0</td>\n",
       "      <td>0</td>\n",
       "      <td>0</td>\n",
       "      <td>1</td>\n",
       "      <td>0</td>\n",
       "      <td>0</td>\n",
       "      <td>0</td>\n",
       "      <td>0</td>\n",
       "      <td>0</td>\n",
       "      <td>...</td>\n",
       "      <td>0</td>\n",
       "      <td>0</td>\n",
       "      <td>0</td>\n",
       "      <td>0</td>\n",
       "      <td>0.0</td>\n",
       "      <td>1569</td>\n",
       "      <td>36.656709</td>\n",
       "      <td>-3.309214</td>\n",
       "      <td>300</td>\n",
       "      <td>13</td>\n",
       "    </tr>\n",
       "    <tr>\n",
       "      <th>2</th>\n",
       "      <td>0</td>\n",
       "      <td>0</td>\n",
       "      <td>0</td>\n",
       "      <td>0</td>\n",
       "      <td>0</td>\n",
       "      <td>0</td>\n",
       "      <td>0</td>\n",
       "      <td>0</td>\n",
       "      <td>0</td>\n",
       "      <td>0</td>\n",
       "      <td>...</td>\n",
       "      <td>0</td>\n",
       "      <td>0</td>\n",
       "      <td>0</td>\n",
       "      <td>0</td>\n",
       "      <td>0.0</td>\n",
       "      <td>1567</td>\n",
       "      <td>34.767863</td>\n",
       "      <td>-5.004344</td>\n",
       "      <td>500</td>\n",
       "      <td>3</td>\n",
       "    </tr>\n",
       "    <tr>\n",
       "      <th>3</th>\n",
       "      <td>0</td>\n",
       "      <td>0</td>\n",
       "      <td>0</td>\n",
       "      <td>0</td>\n",
       "      <td>0</td>\n",
       "      <td>0</td>\n",
       "      <td>1</td>\n",
       "      <td>0</td>\n",
       "      <td>0</td>\n",
       "      <td>0</td>\n",
       "      <td>...</td>\n",
       "      <td>0</td>\n",
       "      <td>0</td>\n",
       "      <td>0</td>\n",
       "      <td>1</td>\n",
       "      <td>0.0</td>\n",
       "      <td>267</td>\n",
       "      <td>38.058046</td>\n",
       "      <td>-9.418672</td>\n",
       "      <td>250</td>\n",
       "      <td>26</td>\n",
       "    </tr>\n",
       "    <tr>\n",
       "      <th>4</th>\n",
       "      <td>0</td>\n",
       "      <td>0</td>\n",
       "      <td>0</td>\n",
       "      <td>0</td>\n",
       "      <td>0</td>\n",
       "      <td>0</td>\n",
       "      <td>1</td>\n",
       "      <td>0</td>\n",
       "      <td>0</td>\n",
       "      <td>0</td>\n",
       "      <td>...</td>\n",
       "      <td>0</td>\n",
       "      <td>0</td>\n",
       "      <td>0</td>\n",
       "      <td>0</td>\n",
       "      <td>500.0</td>\n",
       "      <td>1260</td>\n",
       "      <td>35.006123</td>\n",
       "      <td>-10.950412</td>\n",
       "      <td>60</td>\n",
       "      <td>13</td>\n",
       "    </tr>\n",
       "  </tbody>\n",
       "</table>\n",
       "<p>5 rows × 261 columns</p>\n",
       "</div>"
      ],
      "text/plain": [
       "   basin_Lake Nyasa  basin_Lake Rukwa  basin_Lake Tanganyika  \\\n",
       "0                 0                 0                      0   \n",
       "1                 0                 0                      0   \n",
       "2                 0                 0                      0   \n",
       "3                 0                 0                      0   \n",
       "4                 0                 0                      0   \n",
       "\n",
       "   basin_Lake Victoria  basin_Pangani  basin_Rufiji  \\\n",
       "0                    0              0             0   \n",
       "1                    0              1             0   \n",
       "2                    0              0             0   \n",
       "3                    0              0             0   \n",
       "4                    0              0             0   \n",
       "\n",
       "   basin_Ruvuma / Southern Coast  basin_Wami / Ruvu  region_Dar es Salaam  \\\n",
       "0                              0                  0                     0   \n",
       "1                              0                  0                     0   \n",
       "2                              0                  0                     0   \n",
       "3                              1                  0                     0   \n",
       "4                              1                  0                     0   \n",
       "\n",
       "   region_Dodoma  ...  top_lga_Songea Rural  top_lga_Sumbawanga Rural  \\\n",
       "0              0  ...                     0                         0   \n",
       "1              0  ...                     0                         0   \n",
       "2              0  ...                     0                         0   \n",
       "3              0  ...                     0                         0   \n",
       "4              0  ...                     0                         0   \n",
       "\n",
       "   top_lga_Ulanga  top_lga_other  amount_tsh  gps_height  longitude  \\\n",
       "0               0              1         0.0        1996  35.290799   \n",
       "1               0              0         0.0        1569  36.656709   \n",
       "2               0              0         0.0        1567  34.767863   \n",
       "3               0              1         0.0         267  38.058046   \n",
       "4               0              0       500.0        1260  35.006123   \n",
       "\n",
       "    latitude  population  well_age  \n",
       "0  -4.059696         321         1  \n",
       "1  -3.309214         300        13  \n",
       "2  -5.004344         500         3  \n",
       "3  -9.418672         250        26  \n",
       "4 -10.950412          60        13  \n",
       "\n",
       "[5 rows x 261 columns]"
      ]
     },
     "execution_count": 2,
     "metadata": {},
     "output_type": "execute_result"
    }
   ],
   "source": [
    "# Import preprocessed file\n",
    "\n",
    "processed_test = pd.read_csv('Saved Files/Top50_processed_test')\n",
    "processed_test.head()"
   ]
  },
  {
   "cell_type": "markdown",
   "metadata": {},
   "source": [
    "# Import and Process Training Data"
   ]
  },
  {
   "cell_type": "code",
   "execution_count": 3,
   "metadata": {},
   "outputs": [
    {
     "data": {
      "text/html": [
       "<div>\n",
       "<style scoped>\n",
       "    .dataframe tbody tr th:only-of-type {\n",
       "        vertical-align: middle;\n",
       "    }\n",
       "\n",
       "    .dataframe tbody tr th {\n",
       "        vertical-align: top;\n",
       "    }\n",
       "\n",
       "    .dataframe thead th {\n",
       "        text-align: right;\n",
       "    }\n",
       "</style>\n",
       "<table border=\"1\" class=\"dataframe\">\n",
       "  <thead>\n",
       "    <tr style=\"text-align: right;\">\n",
       "      <th></th>\n",
       "      <th>amount_tsh</th>\n",
       "      <th>gps_height</th>\n",
       "      <th>longitude</th>\n",
       "      <th>latitude</th>\n",
       "      <th>basin</th>\n",
       "      <th>region</th>\n",
       "      <th>region_code</th>\n",
       "      <th>district_code</th>\n",
       "      <th>population</th>\n",
       "      <th>scheme_management</th>\n",
       "      <th>...</th>\n",
       "      <th>payment</th>\n",
       "      <th>water_quality</th>\n",
       "      <th>quantity</th>\n",
       "      <th>source</th>\n",
       "      <th>waterpoint_type</th>\n",
       "      <th>well_age</th>\n",
       "      <th>status_group</th>\n",
       "      <th>top_funded</th>\n",
       "      <th>top_installers</th>\n",
       "      <th>top_lga</th>\n",
       "    </tr>\n",
       "  </thead>\n",
       "  <tbody>\n",
       "    <tr>\n",
       "      <th>0</th>\n",
       "      <td>6000.0</td>\n",
       "      <td>1390</td>\n",
       "      <td>34.938093</td>\n",
       "      <td>-9.856322</td>\n",
       "      <td>Lake Nyasa</td>\n",
       "      <td>Iringa</td>\n",
       "      <td>11</td>\n",
       "      <td>5</td>\n",
       "      <td>109</td>\n",
       "      <td>VWC</td>\n",
       "      <td>...</td>\n",
       "      <td>pay annually</td>\n",
       "      <td>soft</td>\n",
       "      <td>enough</td>\n",
       "      <td>spring</td>\n",
       "      <td>communal standpipe</td>\n",
       "      <td>12</td>\n",
       "      <td>functional</td>\n",
       "      <td>Roman</td>\n",
       "      <td>other</td>\n",
       "      <td>Ludewa</td>\n",
       "    </tr>\n",
       "    <tr>\n",
       "      <th>1</th>\n",
       "      <td>0.0</td>\n",
       "      <td>1399</td>\n",
       "      <td>34.698766</td>\n",
       "      <td>-2.147466</td>\n",
       "      <td>Lake Victoria</td>\n",
       "      <td>Mara</td>\n",
       "      <td>20</td>\n",
       "      <td>2</td>\n",
       "      <td>280</td>\n",
       "      <td>other</td>\n",
       "      <td>...</td>\n",
       "      <td>never pay</td>\n",
       "      <td>soft</td>\n",
       "      <td>insufficient</td>\n",
       "      <td>rainwater harvesting</td>\n",
       "      <td>communal standpipe</td>\n",
       "      <td>3</td>\n",
       "      <td>functional</td>\n",
       "      <td>other</td>\n",
       "      <td>other</td>\n",
       "      <td>Serengeti</td>\n",
       "    </tr>\n",
       "    <tr>\n",
       "      <th>2</th>\n",
       "      <td>25.0</td>\n",
       "      <td>686</td>\n",
       "      <td>37.460664</td>\n",
       "      <td>-3.821329</td>\n",
       "      <td>Pangani</td>\n",
       "      <td>Manyara</td>\n",
       "      <td>21</td>\n",
       "      <td>4</td>\n",
       "      <td>250</td>\n",
       "      <td>VWC</td>\n",
       "      <td>...</td>\n",
       "      <td>pay per bucket</td>\n",
       "      <td>soft</td>\n",
       "      <td>enough</td>\n",
       "      <td>dam</td>\n",
       "      <td>communal standpipe multiple</td>\n",
       "      <td>4</td>\n",
       "      <td>functional</td>\n",
       "      <td>other</td>\n",
       "      <td>World Vision</td>\n",
       "      <td>other</td>\n",
       "    </tr>\n",
       "    <tr>\n",
       "      <th>3</th>\n",
       "      <td>0.0</td>\n",
       "      <td>263</td>\n",
       "      <td>38.486161</td>\n",
       "      <td>-11.155298</td>\n",
       "      <td>Ruvuma / Southern Coast</td>\n",
       "      <td>Mtwara</td>\n",
       "      <td>90</td>\n",
       "      <td>63</td>\n",
       "      <td>58</td>\n",
       "      <td>VWC</td>\n",
       "      <td>...</td>\n",
       "      <td>never pay</td>\n",
       "      <td>soft</td>\n",
       "      <td>dry</td>\n",
       "      <td>machine dbh</td>\n",
       "      <td>communal standpipe multiple</td>\n",
       "      <td>27</td>\n",
       "      <td>non functional</td>\n",
       "      <td>Unicef</td>\n",
       "      <td>UNICEF</td>\n",
       "      <td>other</td>\n",
       "    </tr>\n",
       "    <tr>\n",
       "      <th>4</th>\n",
       "      <td>0.0</td>\n",
       "      <td>0</td>\n",
       "      <td>31.130847</td>\n",
       "      <td>-1.825359</td>\n",
       "      <td>Lake Victoria</td>\n",
       "      <td>Kagera</td>\n",
       "      <td>18</td>\n",
       "      <td>1</td>\n",
       "      <td>0</td>\n",
       "      <td>other</td>\n",
       "      <td>...</td>\n",
       "      <td>never pay</td>\n",
       "      <td>soft</td>\n",
       "      <td>seasonal</td>\n",
       "      <td>rainwater harvesting</td>\n",
       "      <td>communal standpipe</td>\n",
       "      <td>12</td>\n",
       "      <td>functional</td>\n",
       "      <td>other</td>\n",
       "      <td>other</td>\n",
       "      <td>Karagwe</td>\n",
       "    </tr>\n",
       "  </tbody>\n",
       "</table>\n",
       "<p>5 rows × 22 columns</p>\n",
       "</div>"
      ],
      "text/plain": [
       "   amount_tsh  gps_height  longitude   latitude                    basin  \\\n",
       "0      6000.0        1390  34.938093  -9.856322               Lake Nyasa   \n",
       "1         0.0        1399  34.698766  -2.147466            Lake Victoria   \n",
       "2        25.0         686  37.460664  -3.821329                  Pangani   \n",
       "3         0.0         263  38.486161 -11.155298  Ruvuma / Southern Coast   \n",
       "4         0.0           0  31.130847  -1.825359            Lake Victoria   \n",
       "\n",
       "    region  region_code  district_code  population scheme_management  ...  \\\n",
       "0   Iringa           11              5         109               VWC  ...   \n",
       "1     Mara           20              2         280             other  ...   \n",
       "2  Manyara           21              4         250               VWC  ...   \n",
       "3   Mtwara           90             63          58               VWC  ...   \n",
       "4   Kagera           18              1           0             other  ...   \n",
       "\n",
       "          payment water_quality      quantity                source  \\\n",
       "0    pay annually          soft        enough                spring   \n",
       "1       never pay          soft  insufficient  rainwater harvesting   \n",
       "2  pay per bucket          soft        enough                   dam   \n",
       "3       never pay          soft           dry           machine dbh   \n",
       "4       never pay          soft      seasonal  rainwater harvesting   \n",
       "\n",
       "               waterpoint_type well_age    status_group  top_funded  \\\n",
       "0           communal standpipe       12      functional       Roman   \n",
       "1           communal standpipe        3      functional       other   \n",
       "2  communal standpipe multiple        4      functional       other   \n",
       "3  communal standpipe multiple       27  non functional      Unicef   \n",
       "4           communal standpipe       12      functional       other   \n",
       "\n",
       "  top_installers    top_lga  \n",
       "0          other     Ludewa  \n",
       "1          other  Serengeti  \n",
       "2   World Vision      other  \n",
       "3         UNICEF      other  \n",
       "4          other    Karagwe  \n",
       "\n",
       "[5 rows x 22 columns]"
      ]
     },
     "execution_count": 3,
     "metadata": {},
     "output_type": "execute_result"
    }
   ],
   "source": [
    "# Import training data \n",
    "\n",
    "df_train = pd.read_csv('Saved Files/experimental50_training_set')\n",
    "df_train.head()"
   ]
  },
  {
   "cell_type": "code",
   "execution_count": 4,
   "metadata": {},
   "outputs": [
    {
     "data": {
      "text/html": [
       "<div>\n",
       "<style scoped>\n",
       "    .dataframe tbody tr th:only-of-type {\n",
       "        vertical-align: middle;\n",
       "    }\n",
       "\n",
       "    .dataframe tbody tr th {\n",
       "        vertical-align: top;\n",
       "    }\n",
       "\n",
       "    .dataframe thead th {\n",
       "        text-align: right;\n",
       "    }\n",
       "</style>\n",
       "<table border=\"1\" class=\"dataframe\">\n",
       "  <thead>\n",
       "    <tr style=\"text-align: right;\">\n",
       "      <th></th>\n",
       "      <th>basin_Lake Nyasa</th>\n",
       "      <th>basin_Lake Rukwa</th>\n",
       "      <th>basin_Lake Tanganyika</th>\n",
       "      <th>basin_Lake Victoria</th>\n",
       "      <th>basin_Pangani</th>\n",
       "      <th>basin_Rufiji</th>\n",
       "      <th>basin_Ruvuma / Southern Coast</th>\n",
       "      <th>basin_Wami / Ruvu</th>\n",
       "      <th>region_Dar es Salaam</th>\n",
       "      <th>region_Dodoma</th>\n",
       "      <th>...</th>\n",
       "      <th>top_lga_Songea Rural</th>\n",
       "      <th>top_lga_Sumbawanga Rural</th>\n",
       "      <th>top_lga_Ulanga</th>\n",
       "      <th>top_lga_other</th>\n",
       "      <th>amount_tsh</th>\n",
       "      <th>gps_height</th>\n",
       "      <th>longitude</th>\n",
       "      <th>latitude</th>\n",
       "      <th>population</th>\n",
       "      <th>well_age</th>\n",
       "    </tr>\n",
       "  </thead>\n",
       "  <tbody>\n",
       "    <tr>\n",
       "      <th>0</th>\n",
       "      <td>1</td>\n",
       "      <td>0</td>\n",
       "      <td>0</td>\n",
       "      <td>0</td>\n",
       "      <td>0</td>\n",
       "      <td>0</td>\n",
       "      <td>0</td>\n",
       "      <td>0</td>\n",
       "      <td>0</td>\n",
       "      <td>0</td>\n",
       "      <td>...</td>\n",
       "      <td>0</td>\n",
       "      <td>0</td>\n",
       "      <td>0</td>\n",
       "      <td>0</td>\n",
       "      <td>6000.0</td>\n",
       "      <td>1390</td>\n",
       "      <td>34.938093</td>\n",
       "      <td>-9.856322</td>\n",
       "      <td>109</td>\n",
       "      <td>12</td>\n",
       "    </tr>\n",
       "    <tr>\n",
       "      <th>1</th>\n",
       "      <td>0</td>\n",
       "      <td>0</td>\n",
       "      <td>0</td>\n",
       "      <td>1</td>\n",
       "      <td>0</td>\n",
       "      <td>0</td>\n",
       "      <td>0</td>\n",
       "      <td>0</td>\n",
       "      <td>0</td>\n",
       "      <td>0</td>\n",
       "      <td>...</td>\n",
       "      <td>0</td>\n",
       "      <td>0</td>\n",
       "      <td>0</td>\n",
       "      <td>0</td>\n",
       "      <td>0.0</td>\n",
       "      <td>1399</td>\n",
       "      <td>34.698766</td>\n",
       "      <td>-2.147466</td>\n",
       "      <td>280</td>\n",
       "      <td>3</td>\n",
       "    </tr>\n",
       "    <tr>\n",
       "      <th>2</th>\n",
       "      <td>0</td>\n",
       "      <td>0</td>\n",
       "      <td>0</td>\n",
       "      <td>0</td>\n",
       "      <td>1</td>\n",
       "      <td>0</td>\n",
       "      <td>0</td>\n",
       "      <td>0</td>\n",
       "      <td>0</td>\n",
       "      <td>0</td>\n",
       "      <td>...</td>\n",
       "      <td>0</td>\n",
       "      <td>0</td>\n",
       "      <td>0</td>\n",
       "      <td>1</td>\n",
       "      <td>25.0</td>\n",
       "      <td>686</td>\n",
       "      <td>37.460664</td>\n",
       "      <td>-3.821329</td>\n",
       "      <td>250</td>\n",
       "      <td>4</td>\n",
       "    </tr>\n",
       "    <tr>\n",
       "      <th>3</th>\n",
       "      <td>0</td>\n",
       "      <td>0</td>\n",
       "      <td>0</td>\n",
       "      <td>0</td>\n",
       "      <td>0</td>\n",
       "      <td>0</td>\n",
       "      <td>1</td>\n",
       "      <td>0</td>\n",
       "      <td>0</td>\n",
       "      <td>0</td>\n",
       "      <td>...</td>\n",
       "      <td>0</td>\n",
       "      <td>0</td>\n",
       "      <td>0</td>\n",
       "      <td>1</td>\n",
       "      <td>0.0</td>\n",
       "      <td>263</td>\n",
       "      <td>38.486161</td>\n",
       "      <td>-11.155298</td>\n",
       "      <td>58</td>\n",
       "      <td>27</td>\n",
       "    </tr>\n",
       "    <tr>\n",
       "      <th>4</th>\n",
       "      <td>0</td>\n",
       "      <td>0</td>\n",
       "      <td>0</td>\n",
       "      <td>1</td>\n",
       "      <td>0</td>\n",
       "      <td>0</td>\n",
       "      <td>0</td>\n",
       "      <td>0</td>\n",
       "      <td>0</td>\n",
       "      <td>0</td>\n",
       "      <td>...</td>\n",
       "      <td>0</td>\n",
       "      <td>0</td>\n",
       "      <td>0</td>\n",
       "      <td>0</td>\n",
       "      <td>0.0</td>\n",
       "      <td>0</td>\n",
       "      <td>31.130847</td>\n",
       "      <td>-1.825359</td>\n",
       "      <td>0</td>\n",
       "      <td>12</td>\n",
       "    </tr>\n",
       "  </tbody>\n",
       "</table>\n",
       "<p>5 rows × 261 columns</p>\n",
       "</div>"
      ],
      "text/plain": [
       "   basin_Lake Nyasa  basin_Lake Rukwa  basin_Lake Tanganyika  \\\n",
       "0                 1                 0                      0   \n",
       "1                 0                 0                      0   \n",
       "2                 0                 0                      0   \n",
       "3                 0                 0                      0   \n",
       "4                 0                 0                      0   \n",
       "\n",
       "   basin_Lake Victoria  basin_Pangani  basin_Rufiji  \\\n",
       "0                    0              0             0   \n",
       "1                    1              0             0   \n",
       "2                    0              1             0   \n",
       "3                    0              0             0   \n",
       "4                    1              0             0   \n",
       "\n",
       "   basin_Ruvuma / Southern Coast  basin_Wami / Ruvu  region_Dar es Salaam  \\\n",
       "0                              0                  0                     0   \n",
       "1                              0                  0                     0   \n",
       "2                              0                  0                     0   \n",
       "3                              1                  0                     0   \n",
       "4                              0                  0                     0   \n",
       "\n",
       "   region_Dodoma  ...  top_lga_Songea Rural  top_lga_Sumbawanga Rural  \\\n",
       "0              0  ...                     0                         0   \n",
       "1              0  ...                     0                         0   \n",
       "2              0  ...                     0                         0   \n",
       "3              0  ...                     0                         0   \n",
       "4              0  ...                     0                         0   \n",
       "\n",
       "   top_lga_Ulanga  top_lga_other  amount_tsh  gps_height  longitude  \\\n",
       "0               0              0      6000.0        1390  34.938093   \n",
       "1               0              0         0.0        1399  34.698766   \n",
       "2               0              1        25.0         686  37.460664   \n",
       "3               0              1         0.0         263  38.486161   \n",
       "4               0              0         0.0           0  31.130847   \n",
       "\n",
       "    latitude  population  well_age  \n",
       "0  -9.856322         109        12  \n",
       "1  -2.147466         280         3  \n",
       "2  -3.821329         250         4  \n",
       "3 -11.155298          58        27  \n",
       "4  -1.825359           0        12  \n",
       "\n",
       "[5 rows x 261 columns]"
      ]
     },
     "execution_count": 4,
     "metadata": {},
     "output_type": "execute_result"
    }
   ],
   "source": [
    "df_train['district_code'] = df_train['district_code'].astype('str')\n",
    "df_train['region_code'] = df_train['region_code'].astype('str')\n",
    "\n",
    "# Split Continuous and Categorical Variables, OHE Categorical Variables\n",
    "\n",
    "train_cont = df_train[['amount_tsh', 'gps_height', 'longitude', 'latitude', 'population', 'well_age']]\n",
    "\n",
    "train_cat = df_train.drop(columns = ['amount_tsh', 'gps_height', 'longitude', 'latitude', 'population',\n",
    "                                        'well_age', 'status_group'], axis = 1)\n",
    "\n",
    "train_dummies = pd.get_dummies(train_cat, drop_first = True)\n",
    "\n",
    "processed_train = pd.concat([train_dummies, train_cont], axis = 1)\n",
    "processed_train.head()"
   ]
  },
  {
   "cell_type": "markdown",
   "metadata": {},
   "source": [
    "## Compare Top 50 Column Values in Train and Test Datasets"
   ]
  },
  {
   "cell_type": "code",
   "execution_count": 5,
   "metadata": {},
   "outputs": [
    {
     "data": {
      "text/plain": [
       "set()"
      ]
     },
     "execution_count": 5,
     "metadata": {},
     "output_type": "execute_result"
    }
   ],
   "source": [
    "# View all columns present in Test set that aren't in Train set\n",
    "\n",
    "set(processed_test.columns).difference(processed_train.columns)"
   ]
  },
  {
   "cell_type": "code",
   "execution_count": 6,
   "metadata": {},
   "outputs": [
    {
     "data": {
      "text/plain": [
       "set()"
      ]
     },
     "execution_count": 6,
     "metadata": {},
     "output_type": "execute_result"
    }
   ],
   "source": [
    "# View all columns present in Train set that aren't in Test set\n",
    "\n",
    "set(processed_train.columns).difference(processed_test.columns)"
   ]
  },
  {
   "cell_type": "code",
   "execution_count": null,
   "metadata": {},
   "outputs": [],
   "source": [
    "for col in processed_train.columns:\n",
    "    print(col)"
   ]
  },
  {
   "cell_type": "code",
   "execution_count": null,
   "metadata": {},
   "outputs": [],
   "source": [
    "for col in processed_test.columns:\n",
    "    print(col)"
   ]
  },
  {
   "cell_type": "markdown",
   "metadata": {},
   "source": [
    "# Modeling"
   ]
  },
  {
   "cell_type": "code",
   "execution_count": 7,
   "metadata": {},
   "outputs": [],
   "source": [
    "# Split data into target (y) and predictors (X)\n",
    "\n",
    "X = processed_train\n",
    "y = df_train['status_group']"
   ]
  },
  {
   "cell_type": "code",
   "execution_count": 9,
   "metadata": {},
   "outputs": [],
   "source": [
    "X_train, X_test, y_train, y_test = train_test_split(X, y, test_size = 0.25, random_state = 42)"
   ]
  },
  {
   "cell_type": "code",
   "execution_count": 8,
   "metadata": {},
   "outputs": [],
   "source": [
    "# Scale training data to make sure that all of our data is represented at the same scale\n",
    "scale = MinMaxScaler()\n",
    "\n",
    "# Fit\n",
    "X_train = scale.fit_transform(X) \n",
    "X_test = scale.transform(processed_test) "
   ]
  },
  {
   "cell_type": "code",
   "execution_count": 9,
   "metadata": {},
   "outputs": [
    {
     "name": "stdout",
     "output_type": "stream",
     "text": [
      "(59400, 261)\n",
      "(14850, 261)\n"
     ]
    }
   ],
   "source": [
    "print(X_train.shape)\n",
    "print(X_test.shape)"
   ]
  },
  {
   "cell_type": "markdown",
   "metadata": {},
   "source": [
    "### Classifier 1"
   ]
  },
  {
   "cell_type": "code",
   "execution_count": null,
   "metadata": {},
   "outputs": [],
   "source": [
    "# Instantiate XGBClassifier\n",
    "clf = XGBClassifier(base_score=0.5, booster='gbtree', colsample_bylevel=1,\n",
    "       colsample_bytree=1, gamma=0, learning_rate=0.1, max_delta_step=0,\n",
    "       max_depth=9, min_child_weight=1, missing=None, n_estimators=250,\n",
    "       n_jobs=-1, nthread=None, objective='multi:softprob', random_state=0,\n",
    "       reg_alpha=0, reg_lambda=1, scale_pos_weight=1, seed=None,\n",
    "       silent=True, subsample=0.5)\n",
    "\n",
    "# Fit XGBClassifier\n",
    "clf.fit(X, y)"
   ]
  },
  {
   "cell_type": "code",
   "execution_count": null,
   "metadata": {},
   "outputs": [],
   "source": [
    "# Predict on training and test sets\n",
    "\n",
    "test_preds = clf.predict(processed_test)"
   ]
  },
  {
   "cell_type": "code",
   "execution_count": null,
   "metadata": {},
   "outputs": [],
   "source": [
    "# Accuracy of training and test sets for classifier 1\n",
    "\n",
    "training_accuracy = clf.score(X, y)\n",
    "\n",
    "print('Training Accuracy: {:.4}%'.format(training_accuracy * 100))"
   ]
  },
  {
   "cell_type": "markdown",
   "metadata": {},
   "source": [
    "### Classifier 2"
   ]
  },
  {
   "cell_type": "code",
   "execution_count": null,
   "metadata": {},
   "outputs": [],
   "source": [
    "# Instantiate XGBClassifier\n",
    "clf2 = XGBClassifier(base_score=0.5, booster='gbtree', colsample_bylevel=1,\n",
    "       colsample_bytree=1, gamma=0, learning_rate=0.1, max_delta_step=0,\n",
    "       max_depth=9, min_child_weight=1, missing=None, n_estimators=300,\n",
    "       n_jobs=-1, nthread=None, objective='multi:softprob', random_state=0,\n",
    "       reg_alpha=0, reg_lambda=1, scale_pos_weight=1, seed=None,\n",
    "       silent=True, subsample=0.5)\n",
    "\n",
    "# Fit XGBClassifier\n",
    "clf2.fit(X, y)"
   ]
  },
  {
   "cell_type": "code",
   "execution_count": null,
   "metadata": {},
   "outputs": [],
   "source": [
    "# Predict on training and test sets with classifier 2\n",
    "\n",
    "test_preds2 = clf2.predict(processed_test)"
   ]
  },
  {
   "cell_type": "code",
   "execution_count": null,
   "metadata": {},
   "outputs": [],
   "source": [
    "# Accuracy of training and test sets for classifier 2\n",
    "\n",
    "training_accuracy = clf2.score(X, y)\n",
    "\n",
    "print('Training Accuracy: {:.4}%'.format(training_accuracy * 100))"
   ]
  },
  {
   "cell_type": "markdown",
   "metadata": {},
   "source": [
    "#### Classifier 2.1, clf2 with MinMaxScaling"
   ]
  },
  {
   "cell_type": "code",
   "execution_count": 44,
   "metadata": {},
   "outputs": [
    {
     "name": "stderr",
     "output_type": "stream",
     "text": [
      "/Users/Ozymandias/opt/anaconda3/envs/learn-env/lib/python3.6/site-packages/xgboost/sklearn.py:888: UserWarning: The use of label encoder in XGBClassifier is deprecated and will be removed in a future release. To remove this warning, do the following: 1) Pass option use_label_encoder=False when constructing XGBClassifier object; and 2) Encode your labels (y) as integers starting with 0, i.e. 0, 1, 2, ..., [num_class - 1].\n",
      "  warnings.warn(label_encoder_deprecation_msg, UserWarning)\n"
     ]
    },
    {
     "name": "stdout",
     "output_type": "stream",
     "text": [
      "[23:21:18] WARNING: /opt/concourse/worker/volumes/live/7a2b9f41-3287-451b-6691-43e9a6c0910f/volume/xgboost-split_1619728204606/work/src/learner.cc:541: \n",
      "Parameters: { scale_pos_weight, silent } might not be used.\n",
      "\n",
      "  This may not be accurate due to some parameters are only used in language bindings but\n",
      "  passed down to XGBoost core.  Or some parameters are not used but slip through this\n",
      "  verification. Please open an issue if you find above cases.\n",
      "\n",
      "\n",
      "[23:21:20] WARNING: /opt/concourse/worker/volumes/live/7a2b9f41-3287-451b-6691-43e9a6c0910f/volume/xgboost-split_1619728204606/work/src/learner.cc:1061: Starting in XGBoost 1.3.0, the default evaluation metric used with the objective 'multi:softprob' was changed from 'merror' to 'mlogloss'. Explicitly set eval_metric if you'd like to restore the old behavior.\n"
     ]
    },
    {
     "data": {
      "text/plain": [
       "XGBClassifier(base_score=0.5, booster='gbtree', colsample_bylevel=1,\n",
       "              colsample_bynode=1, colsample_bytree=1, gamma=0, gpu_id=-1,\n",
       "              importance_type='gain', interaction_constraints='',\n",
       "              learning_rate=0.1, max_delta_step=0, max_depth=9,\n",
       "              min_child_weight=1, missing=None, monotone_constraints='()',\n",
       "              n_estimators=450, n_jobs=-1, nthread=4, num_parallel_tree=1,\n",
       "              objective='multi:softprob', random_state=0, reg_alpha=0,\n",
       "              reg_lambda=1, scale_pos_weight=1, seed=0, silent=True,\n",
       "              subsample=0.5, tree_method='exact', validate_parameters=1,\n",
       "              verbosity=None)"
      ]
     },
     "execution_count": 44,
     "metadata": {},
     "output_type": "execute_result"
    }
   ],
   "source": [
    "# Instantiate XGBClassifier\n",
    "clf2 = XGBClassifier(base_score=0.5, booster='gbtree', colsample_bylevel=1,\n",
    "       colsample_bytree=1, gamma=0, learning_rate=0.1, max_delta_step=0,\n",
    "       max_depth=9, min_child_weight=1, missing=None, n_estimators=450,\n",
    "       n_jobs=-1, nthread=None, objective='multi:softprob', random_state=0,\n",
    "       reg_alpha=0, reg_lambda=1, scale_pos_weight=1, seed=None,\n",
    "       silent=True, subsample=0.5)\n",
    "\n",
    "# Fit XGBClassifier\n",
    "clf2.fit(X_train, y)"
   ]
  },
  {
   "cell_type": "code",
   "execution_count": 45,
   "metadata": {},
   "outputs": [],
   "source": [
    "# Predict on training and test sets with classifier 2.1\n",
    "\n",
    "test_preds21 = clf2.predict(X_test)"
   ]
  },
  {
   "cell_type": "code",
   "execution_count": 46,
   "metadata": {},
   "outputs": [
    {
     "name": "stdout",
     "output_type": "stream",
     "text": [
      "Training Accuracy: 92.31%\n"
     ]
    }
   ],
   "source": [
    "# Accuracy of training and test sets for classifier 2.1\n",
    "\n",
    "training_accuracy = clf2.score(X_train, y)\n",
    "\n",
    "print('Training Accuracy: {:.4}%'.format(training_accuracy * 100))\n",
    "\n",
    "# CLF2.1 w/ 300 Estimators - 89.75% Accuracy\n",
    "# CLF2.1 w/ 250 Estimators - 88.72% Accuracy\n",
    "# CLF2.1 w/ 400 Estimators - 91.51% Accuracy\n",
    "# CLF2.1 w/ 500 Estimators - 93.05% Accuracy\n",
    "# CLF2.1 w/ 600 Estimators - 94.02% Accuracy\n",
    "# CLF2.1 w/ 350 Estimators - 90.67% Accuracy\n",
    "# CLF2.1 w/ 450 Estimators - 92.31% Accuracy"
   ]
  },
  {
   "cell_type": "markdown",
   "metadata": {},
   "source": [
    "### Classifier 3"
   ]
  },
  {
   "cell_type": "code",
   "execution_count": null,
   "metadata": {},
   "outputs": [],
   "source": [
    "# Instantiate XGBClassifier\n",
    "clf3 = XGBClassifier(base_score=0.5, booster='gbtree', colsample_bylevel=1,\n",
    "       colsample_bytree=1, gamma=0, learning_rate=0.1, max_delta_step=0,\n",
    "       max_depth=5, min_child_weight=1, missing=None, n_estimators=300,\n",
    "       n_jobs=-1, nthread=None, objective='multi:softprob', random_state=0,\n",
    "       reg_alpha=0, reg_lambda=1, scale_pos_weight=1, seed=None,\n",
    "       silent=True, subsample=0.5)\n",
    "\n",
    "# Fit XGBClassifier\n",
    "clf3.fit(X, y)"
   ]
  },
  {
   "cell_type": "code",
   "execution_count": null,
   "metadata": {},
   "outputs": [],
   "source": [
    "# Predict on training and test sets with classifier 3\n",
    "\n",
    "test_preds3 = clf3.predict(processed_test)"
   ]
  },
  {
   "cell_type": "code",
   "execution_count": null,
   "metadata": {},
   "outputs": [],
   "source": [
    "# Accuracy of training and test sets for classifier 3\n",
    "\n",
    "training_accuracy = clf3.score(X, y)\n",
    "\n",
    "print('Training Accuracy: {:.4}%'.format(training_accuracy * 100))"
   ]
  },
  {
   "cell_type": "markdown",
   "metadata": {},
   "source": [
    "## Import and Process Submission File"
   ]
  },
  {
   "cell_type": "code",
   "execution_count": 13,
   "metadata": {},
   "outputs": [
    {
     "data": {
      "text/html": [
       "<div>\n",
       "<style scoped>\n",
       "    .dataframe tbody tr th:only-of-type {\n",
       "        vertical-align: middle;\n",
       "    }\n",
       "\n",
       "    .dataframe tbody tr th {\n",
       "        vertical-align: top;\n",
       "    }\n",
       "\n",
       "    .dataframe thead th {\n",
       "        text-align: right;\n",
       "    }\n",
       "</style>\n",
       "<table border=\"1\" class=\"dataframe\">\n",
       "  <thead>\n",
       "    <tr style=\"text-align: right;\">\n",
       "      <th></th>\n",
       "      <th>id</th>\n",
       "      <th>status_group</th>\n",
       "    </tr>\n",
       "  </thead>\n",
       "  <tbody>\n",
       "    <tr>\n",
       "      <th>0</th>\n",
       "      <td>50785</td>\n",
       "      <td>predicted label</td>\n",
       "    </tr>\n",
       "    <tr>\n",
       "      <th>1</th>\n",
       "      <td>51630</td>\n",
       "      <td>predicted label</td>\n",
       "    </tr>\n",
       "    <tr>\n",
       "      <th>2</th>\n",
       "      <td>17168</td>\n",
       "      <td>predicted label</td>\n",
       "    </tr>\n",
       "    <tr>\n",
       "      <th>3</th>\n",
       "      <td>45559</td>\n",
       "      <td>predicted label</td>\n",
       "    </tr>\n",
       "    <tr>\n",
       "      <th>4</th>\n",
       "      <td>49871</td>\n",
       "      <td>predicted label</td>\n",
       "    </tr>\n",
       "  </tbody>\n",
       "</table>\n",
       "</div>"
      ],
      "text/plain": [
       "      id     status_group\n",
       "0  50785  predicted label\n",
       "1  51630  predicted label\n",
       "2  17168  predicted label\n",
       "3  45559  predicted label\n",
       "4  49871  predicted label"
      ]
     },
     "execution_count": 13,
     "metadata": {},
     "output_type": "execute_result"
    }
   ],
   "source": [
    "# Import submission format file\n",
    "\n",
    "model_submit = pd.read_csv('DrivenData Files/SubmissionFormat.csv')\n",
    "model_submit.head()"
   ]
  },
  {
   "cell_type": "code",
   "execution_count": 14,
   "metadata": {},
   "outputs": [
    {
     "data": {
      "text/html": [
       "<div>\n",
       "<style scoped>\n",
       "    .dataframe tbody tr th:only-of-type {\n",
       "        vertical-align: middle;\n",
       "    }\n",
       "\n",
       "    .dataframe tbody tr th {\n",
       "        vertical-align: top;\n",
       "    }\n",
       "\n",
       "    .dataframe thead th {\n",
       "        text-align: right;\n",
       "    }\n",
       "</style>\n",
       "<table border=\"1\" class=\"dataframe\">\n",
       "  <thead>\n",
       "    <tr style=\"text-align: right;\">\n",
       "      <th></th>\n",
       "      <th>id</th>\n",
       "    </tr>\n",
       "  </thead>\n",
       "  <tbody>\n",
       "    <tr>\n",
       "      <th>0</th>\n",
       "      <td>50785</td>\n",
       "    </tr>\n",
       "    <tr>\n",
       "      <th>1</th>\n",
       "      <td>51630</td>\n",
       "    </tr>\n",
       "    <tr>\n",
       "      <th>2</th>\n",
       "      <td>17168</td>\n",
       "    </tr>\n",
       "    <tr>\n",
       "      <th>3</th>\n",
       "      <td>45559</td>\n",
       "    </tr>\n",
       "    <tr>\n",
       "      <th>4</th>\n",
       "      <td>49871</td>\n",
       "    </tr>\n",
       "  </tbody>\n",
       "</table>\n",
       "</div>"
      ],
      "text/plain": [
       "      id\n",
       "0  50785\n",
       "1  51630\n",
       "2  17168\n",
       "3  45559\n",
       "4  49871"
      ]
     },
     "execution_count": 14,
     "metadata": {},
     "output_type": "execute_result"
    }
   ],
   "source": [
    "model_submit.drop(['status_group'], axis = 1, inplace = True)\n",
    "model_submit.head()"
   ]
  },
  {
   "cell_type": "markdown",
   "metadata": {},
   "source": [
    "### Classifier 1"
   ]
  },
  {
   "cell_type": "code",
   "execution_count": null,
   "metadata": {},
   "outputs": [],
   "source": [
    "# Format the test predictions into a pandas dataframe\n",
    "\n",
    "test_pred_df = pd.DataFrame(data = test_preds)\n",
    "\n",
    "# Name the outcome label column\n",
    "\n",
    "test_pred_df = test_pred_df.rename(columns = {0: 'status_group'})\n",
    "\n",
    "# Concatenate the test labels and submission format file\n",
    "\n",
    "test_pred_df = pd.concat([model_submit, test_pred_df], axis = 1)"
   ]
  },
  {
   "cell_type": "code",
   "execution_count": null,
   "metadata": {},
   "outputs": [],
   "source": [
    "test_pred_df['status_group'] = test_pred_df['status_group'].astype(str)"
   ]
  },
  {
   "cell_type": "code",
   "execution_count": null,
   "metadata": {},
   "outputs": [],
   "source": [
    "# Convert the outcome column 'status_group' into numeric values\n",
    "\n",
    "test_pred_df['status_group'].replace('1', 'functional', inplace = True)\n",
    "test_pred_df['status_group'].replace('0', 'non_functional', inplace = True)\n",
    "test_pred_df['status_group'].replace('2', 'functional_needs_repair', inplace = True)"
   ]
  },
  {
   "cell_type": "code",
   "execution_count": null,
   "metadata": {},
   "outputs": [],
   "source": [
    "test_pred_df['status_group'].value_counts()"
   ]
  },
  {
   "cell_type": "markdown",
   "metadata": {},
   "source": [
    "### Classifier 2"
   ]
  },
  {
   "cell_type": "code",
   "execution_count": null,
   "metadata": {},
   "outputs": [],
   "source": [
    "# Classifier 2\n",
    "\n",
    "# Format the test predictions into a pandas dataframe\n",
    "\n",
    "test_pred_df2 = pd.DataFrame(data = test_preds2)\n",
    "\n",
    "# Name the outcome label column\n",
    "\n",
    "test_pred_df2 = test_pred_df2.rename(columns = {0: 'status_group'})\n",
    "\n",
    "# Concatenate the test labels and submission format file\n",
    "\n",
    "test_pred_df2 = pd.concat([model_submit, test_pred_df2], axis = 1)"
   ]
  },
  {
   "cell_type": "code",
   "execution_count": null,
   "metadata": {},
   "outputs": [],
   "source": [
    "test_pred_df2['status_group'] = test_pred_df2['status_group'].astype(str)"
   ]
  },
  {
   "cell_type": "code",
   "execution_count": null,
   "metadata": {},
   "outputs": [],
   "source": [
    "# Convert the outcome column 'status_group' into numeric values\n",
    "\n",
    "test_pred_df2['status_group'].replace('1', 'functional', inplace = True)\n",
    "test_pred_df2['status_group'].replace('0', 'non_functional', inplace = True)\n",
    "test_pred_df2['status_group'].replace('2', 'functional_needs_repair', inplace = True)"
   ]
  },
  {
   "cell_type": "code",
   "execution_count": null,
   "metadata": {},
   "outputs": [],
   "source": [
    "test_pred_df2['status_group'].value_counts()"
   ]
  },
  {
   "cell_type": "markdown",
   "metadata": {},
   "source": [
    "#### Classifier 2.1"
   ]
  },
  {
   "cell_type": "code",
   "execution_count": 47,
   "metadata": {},
   "outputs": [],
   "source": [
    "# Classifier 2.1\n",
    "\n",
    "# Format the test predictions into a pandas dataframe\n",
    "\n",
    "test_pred_df21 = pd.DataFrame(data = test_preds21)\n",
    "\n",
    "# Name the outcome label column\n",
    "\n",
    "test_pred_df21 = test_pred_df21.rename(columns = {0: 'status_group'})\n",
    "\n",
    "# Concatenate the test labels and submission format file\n",
    "\n",
    "test_pred_df21 = pd.concat([model_submit, test_pred_df21], axis = 1)"
   ]
  },
  {
   "cell_type": "code",
   "execution_count": 48,
   "metadata": {},
   "outputs": [],
   "source": [
    "test_pred_df21['status_group'] = test_pred_df21['status_group'].astype(str)"
   ]
  },
  {
   "cell_type": "code",
   "execution_count": 49,
   "metadata": {},
   "outputs": [],
   "source": [
    "# Convert the outcome column 'status_group' into numeric values\n",
    "\n",
    "test_pred_df21['status_group'].replace('1', 'functional', inplace = True)\n",
    "test_pred_df21['status_group'].replace('0', 'non_functional', inplace = True)\n",
    "test_pred_df21['status_group'].replace('2', 'functional_needs_repair', inplace = True)"
   ]
  },
  {
   "cell_type": "code",
   "execution_count": 50,
   "metadata": {},
   "outputs": [
    {
     "data": {
      "text/plain": [
       "functional                 9491\n",
       "non functional             4961\n",
       "functional needs repair     398\n",
       "Name: status_group, dtype: int64"
      ]
     },
     "execution_count": 50,
     "metadata": {},
     "output_type": "execute_result"
    }
   ],
   "source": [
    "test_pred_df21['status_group'].value_counts()"
   ]
  },
  {
   "cell_type": "markdown",
   "metadata": {},
   "source": [
    "### Classifier 3"
   ]
  },
  {
   "cell_type": "code",
   "execution_count": null,
   "metadata": {},
   "outputs": [],
   "source": [
    "# Classifier 2\n",
    "\n",
    "# Format the test predictions into a pandas dataframe\n",
    "\n",
    "test_pred_df3 = pd.DataFrame(data = test_preds3)\n",
    "\n",
    "# Name the outcome label column\n",
    "\n",
    "test_pred_df3 = test_pred_df3.rename(columns = {0: 'status_group'})\n",
    "\n",
    "# Concatenate the test labels and submission format file\n",
    "\n",
    "test_pred_df3 = pd.concat([model_submit, test_pred_df3], axis = 1)"
   ]
  },
  {
   "cell_type": "code",
   "execution_count": null,
   "metadata": {},
   "outputs": [],
   "source": [
    "test_pred_df3['status_group'] = test_pred_df3['status_group'].astype(str)"
   ]
  },
  {
   "cell_type": "code",
   "execution_count": null,
   "metadata": {},
   "outputs": [],
   "source": [
    "# Convert the outcome column 'status_group' into numeric values\n",
    "\n",
    "test_pred_df3['status_group'].replace('1', 'functional', inplace = True)\n",
    "test_pred_df3['status_group'].replace('0', 'non_functional', inplace = True)\n",
    "test_pred_df3['status_group'].replace('2', 'functional_needs_repair', inplace = True)"
   ]
  },
  {
   "cell_type": "code",
   "execution_count": null,
   "metadata": {},
   "outputs": [],
   "source": [
    "test_pred_df3['status_group'].value_counts()"
   ]
  },
  {
   "cell_type": "markdown",
   "metadata": {},
   "source": [
    "## Save File for Submission"
   ]
  },
  {
   "cell_type": "code",
   "execution_count": null,
   "metadata": {},
   "outputs": [],
   "source": [
    "# Top 50 Model, Classifier 1: Score = 0.8055\n",
    "\n",
    "#test_pred_df.to_csv('test_set_predictions_6', index = False)"
   ]
  },
  {
   "cell_type": "code",
   "execution_count": null,
   "metadata": {},
   "outputs": [],
   "source": [
    "# Top 50 Model, Classifier 2: Score = 0.8055\n",
    "\n",
    "#test_pred_df2.to_csv('test_set_predictions_7', index = False)"
   ]
  },
  {
   "cell_type": "code",
   "execution_count": null,
   "metadata": {},
   "outputs": [],
   "source": [
    "# Top 50 Model, Classifier 3: Score = 0.8055\n",
    "\n",
    "#test_pred_df3.to_csv('test_set_predictions_8', index = False)"
   ]
  },
  {
   "cell_type": "code",
   "execution_count": null,
   "metadata": {},
   "outputs": [],
   "source": [
    "# Top 50 Model, CatBoost Classifier: Score = 0.7596\n",
    "\n",
    "#cat_preds.to_csv('test_set_predictions_13', index = False)"
   ]
  },
  {
   "cell_type": "code",
   "execution_count": null,
   "metadata": {},
   "outputs": [],
   "source": [
    "# Top 50 Model, Classifier 2.1(MinMax, n_est = 250): Score = 0.8043\n",
    "\n",
    "#test_pred_df21.to_csv('test_set_predictions_12', index = False)"
   ]
  },
  {
   "cell_type": "code",
   "execution_count": null,
   "metadata": {},
   "outputs": [],
   "source": [
    "# Top 50 Model, Classifier 2.1(MinMax, n_est = 300): Score = 0.8063\n",
    "\n",
    "#test_pred_df21.to_csv('test_set_predictions_11', index = False)"
   ]
  },
  {
   "cell_type": "code",
   "execution_count": 43,
   "metadata": {},
   "outputs": [],
   "source": [
    "# Top 50 Model, Classifier 2.1(MinMax, n_est = 350): Score = 0.8075\n",
    "\n",
    "#test_pred_df21.to_csv('test_set_predictions_19', index = False)"
   ]
  },
  {
   "cell_type": "code",
   "execution_count": 19,
   "metadata": {},
   "outputs": [],
   "source": [
    "# Top 50 Model, Classifier 2.1(MinMax, n_est = 400): Score = 0.8083\n",
    "\n",
    "#test_pred_df21.to_csv('test_set_predictions_16', index = False)"
   ]
  },
  {
   "cell_type": "code",
   "execution_count": 27,
   "metadata": {},
   "outputs": [],
   "source": [
    "# Top 50 Model, Classifier 2.1(MinMax, n_est = 500): Score = 0.8078\n",
    "\n",
    "#test_pred_df21.to_csv('test_set_predictions_17', index = False)"
   ]
  },
  {
   "cell_type": "code",
   "execution_count": 35,
   "metadata": {},
   "outputs": [],
   "source": [
    "# Top 50 Model, Classifier 2.1(MinMax, n_est = 600): Score = 0.8068\n",
    "\n",
    "#test_pred_df21.to_csv('test_set_predictions_18', index = False)"
   ]
  },
  {
   "cell_type": "code",
   "execution_count": 51,
   "metadata": {},
   "outputs": [],
   "source": [
    "# Top 50 Model, Classifier 2.1(MinMax, n_est = 450): Score = 0.8076\n",
    "\n",
    "#test_pred_df21.to_csv('test_set_predictions_21', index = False)"
   ]
  }
 ],
 "metadata": {
  "kernelspec": {
   "display_name": "learn-env",
   "language": "python",
   "name": "learn-env"
  },
  "language_info": {
   "codemirror_mode": {
    "name": "ipython",
    "version": 3
   },
   "file_extension": ".py",
   "mimetype": "text/x-python",
   "name": "python",
   "nbconvert_exporter": "python",
   "pygments_lexer": "ipython3",
   "version": "3.6.13"
  },
  "toc": {
   "base_numbering": 1,
   "nav_menu": {},
   "number_sections": true,
   "sideBar": true,
   "skip_h1_title": false,
   "title_cell": "Table of Contents",
   "title_sidebar": "Contents",
   "toc_cell": false,
   "toc_position": {},
   "toc_section_display": true,
   "toc_window_display": false
  }
 },
 "nbformat": 4,
 "nbformat_minor": 2
}
